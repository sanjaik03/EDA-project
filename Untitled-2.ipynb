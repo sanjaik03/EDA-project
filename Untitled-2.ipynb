{
 "cells": [
  {
   "cell_type": "code",
   "execution_count": 1,
   "id": "a894c92c",
   "metadata": {},
   "outputs": [],
   "source": [
    "import pandas as pd"
   ]
  },
  {
   "cell_type": "code",
   "execution_count": 3,
   "id": "81757b78",
   "metadata": {},
   "outputs": [
    {
     "data": {
      "text/html": [
       "<div>\n",
       "<style scoped>\n",
       "    .dataframe tbody tr th:only-of-type {\n",
       "        vertical-align: middle;\n",
       "    }\n",
       "\n",
       "    .dataframe tbody tr th {\n",
       "        vertical-align: top;\n",
       "    }\n",
       "\n",
       "    .dataframe thead th {\n",
       "        text-align: right;\n",
       "    }\n",
       "</style>\n",
       "<table border=\"1\" class=\"dataframe\">\n",
       "  <thead>\n",
       "    <tr style=\"text-align: right;\">\n",
       "      <th></th>\n",
       "      <th>EmployeeID</th>\n",
       "      <th>Name</th>\n",
       "      <th>Department</th>\n",
       "      <th>Age</th>\n",
       "      <th>Salary</th>\n",
       "      <th>JoiningDate</th>\n",
       "      <th>Gender</th>\n",
       "      <th>Location</th>\n",
       "    </tr>\n",
       "  </thead>\n",
       "  <tbody>\n",
       "    <tr>\n",
       "      <th>0</th>\n",
       "      <td>101</td>\n",
       "      <td>Alice</td>\n",
       "      <td>HR</td>\n",
       "      <td>29</td>\n",
       "      <td>50000.0</td>\n",
       "      <td>2015-06-01</td>\n",
       "      <td>F</td>\n",
       "      <td>New York</td>\n",
       "    </tr>\n",
       "    <tr>\n",
       "      <th>1</th>\n",
       "      <td>102</td>\n",
       "      <td>Bob</td>\n",
       "      <td>IT</td>\n",
       "      <td>35</td>\n",
       "      <td>70000.0</td>\n",
       "      <td>2013-04-21</td>\n",
       "      <td>M</td>\n",
       "      <td>San Jose</td>\n",
       "    </tr>\n",
       "    <tr>\n",
       "      <th>2</th>\n",
       "      <td>103</td>\n",
       "      <td>Charlie</td>\n",
       "      <td>Finance</td>\n",
       "      <td>30</td>\n",
       "      <td>65000.0</td>\n",
       "      <td>2016-03-12</td>\n",
       "      <td>M</td>\n",
       "      <td>Chicago</td>\n",
       "    </tr>\n",
       "    <tr>\n",
       "      <th>3</th>\n",
       "      <td>104</td>\n",
       "      <td>David</td>\n",
       "      <td>IT</td>\n",
       "      <td>40</td>\n",
       "      <td>85000.0</td>\n",
       "      <td>2011-11-30</td>\n",
       "      <td>M</td>\n",
       "      <td>New York</td>\n",
       "    </tr>\n",
       "    <tr>\n",
       "      <th>4</th>\n",
       "      <td>105</td>\n",
       "      <td>Eva</td>\n",
       "      <td>HR</td>\n",
       "      <td>28</td>\n",
       "      <td>NaN</td>\n",
       "      <td>2018-08-15</td>\n",
       "      <td>F</td>\n",
       "      <td>Chicago</td>\n",
       "    </tr>\n",
       "    <tr>\n",
       "      <th>5</th>\n",
       "      <td>106</td>\n",
       "      <td>Frank</td>\n",
       "      <td>Finance</td>\n",
       "      <td>38</td>\n",
       "      <td>72000.0</td>\n",
       "      <td>2014-07-19</td>\n",
       "      <td>M</td>\n",
       "      <td>San Jose</td>\n",
       "    </tr>\n",
       "    <tr>\n",
       "      <th>6</th>\n",
       "      <td>107</td>\n",
       "      <td>Grace</td>\n",
       "      <td>IT</td>\n",
       "      <td>32</td>\n",
       "      <td>69000.0</td>\n",
       "      <td>2017-05-23</td>\n",
       "      <td>F</td>\n",
       "      <td>New York</td>\n",
       "    </tr>\n",
       "    <tr>\n",
       "      <th>7</th>\n",
       "      <td>108</td>\n",
       "      <td>Alice</td>\n",
       "      <td>HR</td>\n",
       "      <td>29</td>\n",
       "      <td>50000.0</td>\n",
       "      <td>2015-06-01</td>\n",
       "      <td>F</td>\n",
       "      <td>New York</td>\n",
       "    </tr>\n",
       "  </tbody>\n",
       "</table>\n",
       "</div>"
      ],
      "text/plain": [
       "   EmployeeID     Name Department  Age   Salary JoiningDate Gender  Location\n",
       "0         101    Alice         HR   29  50000.0  2015-06-01      F  New York\n",
       "1         102      Bob         IT   35  70000.0  2013-04-21      M  San Jose\n",
       "2         103  Charlie    Finance   30  65000.0  2016-03-12      M   Chicago\n",
       "3         104    David         IT   40  85000.0  2011-11-30      M  New York\n",
       "4         105      Eva         HR   28      NaN  2018-08-15      F   Chicago\n",
       "5         106    Frank    Finance   38  72000.0  2014-07-19      M  San Jose\n",
       "6         107    Grace         IT   32  69000.0  2017-05-23      F  New York\n",
       "7         108    Alice         HR   29  50000.0  2015-06-01      F  New York"
      ]
     },
     "execution_count": 3,
     "metadata": {},
     "output_type": "execute_result"
    }
   ],
   "source": [
    "dataset = pd.read_csv(\"C:\\\\Users\\\\sanjai kumar s\\\\Downloads\\\\employee_data.csv\")\n",
    "dataset"
   ]
  },
  {
   "cell_type": "code",
   "execution_count": null,
   "id": "7b4b4e09",
   "metadata": {},
   "outputs": [
    {
     "name": "stdout",
     "output_type": "stream",
     "text": [
      "(8, 8)\n"
     ]
    }
   ],
   "source": [
    "\n",
    "print(dataset.shape)"
   ]
  },
  {
   "cell_type": "code",
   "execution_count": 8,
   "id": "ffe0d3c1",
   "metadata": {},
   "outputs": [
    {
     "name": "stdout",
     "output_type": "stream",
     "text": [
      "       EmployeeID        Age        Salary\n",
      "count     8.00000   8.000000      7.000000\n",
      "mean    104.50000  32.625000  65857.142857\n",
      "std       2.44949   4.533605  12482.368518\n",
      "min     101.00000  28.000000  50000.000000\n",
      "25%     102.75000  29.000000  57500.000000\n",
      "50%     104.50000  31.000000  69000.000000\n",
      "75%     106.25000  35.750000  71000.000000\n",
      "max     108.00000  40.000000  85000.000000\n"
     ]
    }
   ],
   "source": [
    "print(dataset.describe())"
   ]
  },
  {
   "cell_type": "code",
   "execution_count": 9,
   "id": "caa87270",
   "metadata": {},
   "outputs": [
    {
     "data": {
      "text/plain": [
       "EmployeeID     False\n",
       "Name           False\n",
       "Department     False\n",
       "Age            False\n",
       "Salary          True\n",
       "JoiningDate    False\n",
       "Gender         False\n",
       "Location       False\n",
       "dtype: bool"
      ]
     },
     "execution_count": 9,
     "metadata": {},
     "output_type": "execute_result"
    }
   ],
   "source": [
    "dataset.isna().any()"
   ]
  },
  {
   "cell_type": "code",
   "execution_count": 4,
   "id": "ec6ae14b",
   "metadata": {},
   "outputs": [
    {
     "name": "stdout",
     "output_type": "stream",
     "text": [
      "<bound method NDFrame.head of    EmployeeID     Name Department  Age   Salary JoiningDate Gender  Location\n",
      "0         101    Alice         HR   29  50000.0  2015-06-01      F  New York\n",
      "1         102      Bob         IT   35  70000.0  2013-04-21      M  San Jose\n",
      "2         103  Charlie    Finance   30  65000.0  2016-03-12      M   Chicago\n",
      "3         104    David         IT   40  85000.0  2011-11-30      M  New York\n",
      "4         105      Eva         HR   28      NaN  2018-08-15      F   Chicago\n",
      "5         106    Frank    Finance   38  72000.0  2014-07-19      M  San Jose\n",
      "6         107    Grace         IT   32  69000.0  2017-05-23      F  New York\n",
      "7         108    Alice         HR   29  50000.0  2015-06-01      F  New York>\n"
     ]
    }
   ],
   "source": [
    "print(dataset.head)"
   ]
  },
  {
   "cell_type": "code",
   "execution_count": 5,
   "id": "08c8fe7c",
   "metadata": {},
   "outputs": [
    {
     "name": "stdout",
     "output_type": "stream",
     "text": [
      "<bound method NDFrame.tail of    EmployeeID     Name Department  Age   Salary JoiningDate Gender  Location\n",
      "0         101    Alice         HR   29  50000.0  2015-06-01      F  New York\n",
      "1         102      Bob         IT   35  70000.0  2013-04-21      M  San Jose\n",
      "2         103  Charlie    Finance   30  65000.0  2016-03-12      M   Chicago\n",
      "3         104    David         IT   40  85000.0  2011-11-30      M  New York\n",
      "4         105      Eva         HR   28      NaN  2018-08-15      F   Chicago\n",
      "5         106    Frank    Finance   38  72000.0  2014-07-19      M  San Jose\n",
      "6         107    Grace         IT   32  69000.0  2017-05-23      F  New York\n",
      "7         108    Alice         HR   29  50000.0  2015-06-01      F  New York>\n"
     ]
    }
   ],
   "source": [
    "print(dataset.tail)"
   ]
  },
  {
   "cell_type": "code",
   "execution_count": 18,
   "id": "c674ea78",
   "metadata": {},
   "outputs": [
    {
     "name": "stdout",
     "output_type": "stream",
     "text": [
      "   EmployeeID   Name Department  Age   Salary JoiningDate Gender  Location\n",
      "1         102    Bob         IT   35  70000.0  2013-04-21      M  San Jose\n",
      "3         104  David         IT   40  85000.0  2011-11-30      M  New York\n",
      "5         106  Frank    Finance   38  72000.0  2014-07-19      M  San Jose\n",
      "6         107  Grace         IT   32  69000.0  2017-05-23      F  New York\n"
     ]
    }
   ],
   "source": [
    "print(dataset.loc[dataset['Age']>30])"
   ]
  },
  {
   "cell_type": "code",
   "execution_count": null,
   "id": "9ab9cc56",
   "metadata": {},
   "outputs": [],
   "source": []
  }
 ],
 "metadata": {
  "kernelspec": {
   "display_name": "base",
   "language": "python",
   "name": "python3"
  },
  "language_info": {
   "codemirror_mode": {
    "name": "ipython",
    "version": 3
   },
   "file_extension": ".py",
   "mimetype": "text/x-python",
   "name": "python",
   "nbconvert_exporter": "python",
   "pygments_lexer": "ipython3",
   "version": "3.12.7"
  }
 },
 "nbformat": 4,
 "nbformat_minor": 5
}
