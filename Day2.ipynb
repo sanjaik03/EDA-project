{
 "cells": [
  {
   "cell_type": "code",
   "execution_count": 1,
   "metadata": {},
   "outputs": [
    {
     "data": {
      "text/plain": [
       "float"
      ]
     },
     "execution_count": 1,
     "metadata": {},
     "output_type": "execute_result"
    }
   ],
   "source": [
    "int\n",
    "float"
   ]
  },
  {
   "cell_type": "code",
   "execution_count": 2,
   "metadata": {},
   "outputs": [
    {
     "data": {
      "text/plain": [
       "0"
      ]
     },
     "execution_count": 2,
     "metadata": {},
     "output_type": "execute_result"
    }
   ],
   "source": [
    "int() # 0\n",
    "# convert any number into int"
   ]
  },
  {
   "cell_type": "code",
   "execution_count": 11,
   "metadata": {},
   "outputs": [
    {
     "name": "stdout",
     "output_type": "stream",
     "text": [
      "123\n"
     ]
    },
    {
     "data": {
      "text/plain": [
       "123"
      ]
     },
     "execution_count": 11,
     "metadata": {},
     "output_type": "execute_result"
    }
   ],
   "source": [
    "a=123\n",
    "b=123.5\n",
    "a=int(a)\n",
    "b=int(b)\n",
    "print(a)\n",
    "b"
   ]
  },
  {
   "cell_type": "code",
   "execution_count": 3,
   "metadata": {},
   "outputs": [
    {
     "data": {
      "text/plain": [
       "0.0"
      ]
     },
     "execution_count": 3,
     "metadata": {},
     "output_type": "execute_result"
    }
   ],
   "source": [
    "float() # 0.0\n",
    "# convert any number into float"
   ]
  },
  {
   "cell_type": "code",
   "execution_count": 4,
   "metadata": {},
   "outputs": [
    {
     "data": {
      "text/plain": [
       "12323.0"
      ]
     },
     "execution_count": 4,
     "metadata": {},
     "output_type": "execute_result"
    }
   ],
   "source": [
    "a = 12323\n",
    "\n",
    "float(a)"
   ]
  },
  {
   "cell_type": "code",
   "execution_count": 5,
   "metadata": {},
   "outputs": [
    {
     "data": {
      "text/plain": [
       "12"
      ]
     },
     "execution_count": 5,
     "metadata": {},
     "output_type": "execute_result"
    }
   ],
   "source": [
    "a = 12.9323\n",
    "\n",
    "int(a)"
   ]
  },
  {
   "cell_type": "markdown",
   "metadata": {},
   "source": [
    "STRING:\n",
    "str() # ''\n",
    "\n",
    "# it is a homogeneous\n",
    "# it can convert any datatype into str\n",
    "# everything inside a str will be considired as str items/elements\n",
    "\n",
    "\n",
    "# items/elements inside a str will be having it own unique index number.\n",
    "\n",
    "# whenever we take any elements from str it will be a str."
   ]
  },
  {
   "cell_type": "code",
   "execution_count": 12,
   "metadata": {},
   "outputs": [
    {
     "data": {
      "text/plain": [
       "'1235'"
      ]
     },
     "execution_count": 12,
     "metadata": {},
     "output_type": "execute_result"
    }
   ],
   "source": [
    "c=1235\n",
    "c=str(c)\n",
    "\n",
    "c"
   ]
  },
  {
   "cell_type": "code",
   "execution_count": null,
   "metadata": {},
   "outputs": [
    {
     "data": {
      "text/plain": [
       "'S'"
      ]
     },
     "execution_count": 23,
     "metadata": {},
     "output_type": "execute_result"
    }
   ],
   "source": [
    "a='Sooraj loves micky' #17 elements/items/character present \n",
    "\n",
    "a[13]\n",
    "a[-18]"
   ]
  },
  {
   "cell_type": "markdown",
   "metadata": {},
   "source": [
    "# positive_index_number:\n",
    "  # it starts from 0 and ends with len-1\n",
    "\n",
    "# negetive_index_number:\n",
    "  # it starts from -1 and ends with -len"
   ]
  },
  {
   "cell_type": "code",
   "execution_count": 13,
   "metadata": {},
   "outputs": [
    {
     "name": "stdout",
     "output_type": "stream",
     "text": [
      "21231\n"
     ]
    },
    {
     "data": {
      "text/plain": [
       "'21231'"
      ]
     },
     "execution_count": 13,
     "metadata": {},
     "output_type": "execute_result"
    }
   ],
   "source": [
    "a = 21231\n",
    "print(str(a))\n",
    "str(a)"
   ]
  },
  {
   "cell_type": "code",
   "execution_count": null,
   "metadata": {},
   "outputs": [],
   "source": [
    "'natarajan'"
   ]
  },
  {
   "cell_type": "code",
   "execution_count": null,
   "metadata": {},
   "outputs": [],
   "source": [
    "print('natarajan')"
   ]
  },
  {
   "cell_type": "code",
   "execution_count": 14,
   "metadata": {},
   "outputs": [
    {
     "data": {
      "text/plain": [
       "14"
      ]
     },
     "execution_count": 14,
     "metadata": {},
     "output_type": "execute_result"
    }
   ],
   "source": [
    "a = 'I play Cricket'\n",
    "\n",
    "len(a) # to find the no of items in that string"
   ]
  },
  {
   "cell_type": "code",
   "execution_count": 16,
   "metadata": {},
   "outputs": [
    {
     "data": {
      "text/plain": [
       "21"
      ]
     },
     "execution_count": 16,
     "metadata": {},
     "output_type": "execute_result"
    }
   ],
   "source": [
    "a = 'I  play Cricket )(*&)'\n",
    "len(a)"
   ]
  },
  {
   "cell_type": "code",
   "execution_count": null,
   "metadata": {},
   "outputs": [],
   "source": [
    "a = 'I play Cricket'\n",
    "#    01234567890123\n",
    "  #  0         1\n",
    "\n",
    "a = 'I play Cricket'\n",
    "#    43210987654321 all are negitive"
   ]
  },
  {
   "cell_type": "markdown",
   "metadata": {},
   "source": [
    "### INDEXING:\n",
    "\n",
    "# to take any item  from str datatype.\n",
    "\n",
    "# syntax:\n",
    "# str_element[index_number]"
   ]
  },
  {
   "cell_type": "code",
   "execution_count": 24,
   "metadata": {},
   "outputs": [
    {
     "name": "stdout",
     "output_type": "stream",
     "text": [
      "C\n",
      "e\n",
      "t\n",
      "k\n"
     ]
    }
   ],
   "source": [
    "a = 'I play Cricket'\n",
    "#    01234567890123\n",
    "print(a[7])    \n",
    "print(a[12])   \n",
    "print(a[-1])  \n",
    "print(a[-3])"
   ]
  },
  {
   "cell_type": "markdown",
   "metadata": {},
   "source": [
    "# SLICING:\n",
    "# to take more than one element/items\n",
    "# by default python move from left to right\n",
    "\n",
    "# syntax:\n",
    "# str_element[ start_index_number : end_index_number : step] : step - by default it will be 1\n",
    "\n",
    "# str_element[ start_index_number : end_index_number - 1 : step] wh python do\n",
    "\n",
    "\n",
    "# start_index_number by default it will be 0\n",
    "# end_index_number by default it will be last element"
   ]
  },
  {
   "cell_type": "code",
   "execution_count": 25,
   "metadata": {},
   "outputs": [
    {
     "name": "stdout",
     "output_type": "stream",
     "text": [
      "play\n",
      "play\n",
      "play\n",
      "Crick\n",
      "I play\n",
      "play Cricket\n"
     ]
    }
   ],
   "source": [
    "a = 'I play Cricket'\n",
    "#    01234567890123\n",
    "\n",
    "print(a[2:5+1]) #play\n",
    "print(a[2:6]) #play\n",
    "print(a[2:6:1]) #play\n",
    "print(a[7:-2]) #Crick\n",
    "print(a[:6]) #I play\n",
    "print(a[2:]) #Play cricket"
   ]
  },
  {
   "cell_type": "code",
   "execution_count": 26,
   "metadata": {},
   "outputs": [
    {
     "name": "stdout",
     "output_type": "stream",
     "text": [
      "play\n",
      "play\n",
      "pa\n",
      " lyCikt\n",
      "Ipa rce\n"
     ]
    }
   ],
   "source": [
    "a = 'I play Cricket'\n",
    "#    01234567890123\n",
    "\n",
    "print(a[2:6])    # 2,3,4,5\n",
    "print(a[2:6:1])  # 2,3,4,5\n",
    "print(a[2:6:2])  # 2,4\n",
    "print(a[1::2]) # 1,3,5,7,9,11,13 - ' lyCikt'\n",
    "print(a[::2])    # 0,2,4,6,8,10,12 - 'Ipa rce'"
   ]
  },
  {
   "cell_type": "markdown",
   "metadata": {},
   "source": [
    "# REVERSE SLICING:\n",
    "\n",
    "# python will move from right to left so step should be negative\n",
    "\n",
    "# always step should be negative to perform REVERSE SLICING\n",
    "\n",
    "# syntax:\n",
    "# str_element[ start_index_number : end_index_number - 1 : -step]\n",
    "\n",
    "# str_element[ start_index_number : end_index_number + 1 : -step] wh python do\n",
    "\n",
    "# start_index_number > end_index_number\n",
    "\n",
    "# start_index_number by default it will be [len-1 | -1]\n",
    "# end_index_number by default it will be 0"
   ]
  },
  {
   "cell_type": "code",
   "execution_count": 3,
   "metadata": {},
   "outputs": [
    {
     "name": "stdout",
     "output_type": "stream",
     "text": [
      "yalp I\n"
     ]
    }
   ],
   "source": [
    "a = 'I play Cricket fish'\n",
    "#    0123456789012345678\n",
    "\n",
    "# yalp\n",
    "# hsif\n",
    "# tekcirC\n",
    "\n",
    "# print(a[5:2]) # \" \" - step should be given\n",
    "# print(a[5:2-1:-1]) # 5,4,3,2\n",
    "print(a[5::-1])   # 5,4,3,2\n",
    "# print(a[-1:-5:-1]) # -1,-2,-3,-4\n",
    "# print(a[18:14:-1]) # -1,-2,-3,-4\n",
    "# print(a[13:7-1:-1])\n"
   ]
  },
  {
   "cell_type": "code",
   "execution_count": 40,
   "metadata": {},
   "outputs": [
    {
     "data": {
      "text/plain": [
       "['__add__',\n",
       " '__class__',\n",
       " '__contains__',\n",
       " '__delattr__',\n",
       " '__dir__',\n",
       " '__doc__',\n",
       " '__eq__',\n",
       " '__format__',\n",
       " '__ge__',\n",
       " '__getattribute__',\n",
       " '__getitem__',\n",
       " '__getnewargs__',\n",
       " '__getstate__',\n",
       " '__gt__',\n",
       " '__hash__',\n",
       " '__init__',\n",
       " '__init_subclass__',\n",
       " '__iter__',\n",
       " '__le__',\n",
       " '__len__',\n",
       " '__lt__',\n",
       " '__mod__',\n",
       " '__mul__',\n",
       " '__ne__',\n",
       " '__new__',\n",
       " '__reduce__',\n",
       " '__reduce_ex__',\n",
       " '__repr__',\n",
       " '__rmod__',\n",
       " '__rmul__',\n",
       " '__setattr__',\n",
       " '__sizeof__',\n",
       " '__str__',\n",
       " '__subclasshook__',\n",
       " 'capitalize',\n",
       " 'casefold',\n",
       " 'center',\n",
       " 'count',\n",
       " 'encode',\n",
       " 'endswith',\n",
       " 'expandtabs',\n",
       " 'find',\n",
       " 'format',\n",
       " 'format_map',\n",
       " 'index',\n",
       " 'isalnum',\n",
       " 'isalpha',\n",
       " 'isascii',\n",
       " 'isdecimal',\n",
       " 'isdigit',\n",
       " 'isidentifier',\n",
       " 'islower',\n",
       " 'isnumeric',\n",
       " 'isprintable',\n",
       " 'isspace',\n",
       " 'istitle',\n",
       " 'isupper',\n",
       " 'join',\n",
       " 'ljust',\n",
       " 'lower',\n",
       " 'lstrip',\n",
       " 'maketrans',\n",
       " 'partition',\n",
       " 'removeprefix',\n",
       " 'removesuffix',\n",
       " 'replace',\n",
       " 'rfind',\n",
       " 'rindex',\n",
       " 'rjust',\n",
       " 'rpartition',\n",
       " 'rsplit',\n",
       " 'rstrip',\n",
       " 'split',\n",
       " 'splitlines',\n",
       " 'startswith',\n",
       " 'strip',\n",
       " 'swapcase',\n",
       " 'title',\n",
       " 'translate',\n",
       " 'upper',\n",
       " 'zfill']"
      ]
     },
     "execution_count": 40,
     "metadata": {},
     "output_type": "execute_result"
    }
   ],
   "source": [
    "dir(str)"
   ]
  },
  {
   "cell_type": "code",
   "execution_count": null,
   "metadata": {},
   "outputs": [],
   "source": [
    "# very basic\n",
    "\n",
    "# STRING FUNCTIONS:\n",
    "# ________________\n",
    "\n",
    "# upper\n",
    "# lower\n",
    "# captilize\n",
    "# title\n",
    "# swapcase\n",
    "\n",
    "\n",
    "# isalpha\n",
    "# isalnum\n",
    "# isdigit\n",
    "# isnumeric\n",
    "# isdecimal\n",
    "# isascii\n",
    "# isupper\n",
    "# islower\n",
    "\n",
    "# syntax:\n",
    "# str_element.function()"
   ]
  },
  {
   "cell_type": "code",
   "execution_count": 45,
   "metadata": {},
   "outputs": [
    {
     "name": "stdout",
     "output_type": "stream",
     "text": [
      "I PLAY CRICKET FISH 23234FGDF434 ASD23423FSF\n",
      "i play cricket fish 23234fgdf434 asd23423fsf\n",
      "I play cricket fish 23234fgdf434 asd23423fsf\n",
      "I Play Cricket Fish 23234Fgdf434 Asd23423Fsf\n",
      "i PLaY cRICKET FIsH 23234FGDF434 ASD23423FSF\n"
     ]
    }
   ],
   "source": [
    "# upper\n",
    "# lower\n",
    "# captilize\n",
    "# title\n",
    "# swapcase\n",
    "\n",
    "a = 'I plAy Cricket fiSh 23234fgdf434 asd23423fsf'\n",
    "\n",
    "print(a.upper())  # we are calling upper() function for this str a\n",
    "print(a.lower())\n",
    "print(a.capitalize())\n",
    "print(a.title()) # FIRST LETTERS OF EVERY WORD IN THAT STRING\n",
    "print(a.swapcase())"
   ]
  },
  {
   "cell_type": "code",
   "execution_count": 46,
   "metadata": {},
   "outputs": [
    {
     "name": "stdout",
     "output_type": "stream",
     "text": [
      "1 False\n",
      "2 True\n",
      "3 False\n",
      "4 True\n",
      "5 True\n",
      "6 False\n",
      "7 False\n",
      "8 True\n",
      "9 False\n"
     ]
    }
   ],
   "source": [
    "# isalpha.    # all elements/items must be alphabets\n",
    "# isalnum     # all elements/items can be alphabets/number\n",
    "# isdigit     # all elements/items must be number\n",
    "# isnumeric   # all elements/items must be number\n",
    "# isdecimal   # all elements/items must be number\n",
    "# isupper\n",
    "# islower\n",
    "\n",
    "# output will be in bool\n",
    "\n",
    "\n",
    "a = 'I live in India'\n",
    "print(1,a.isalpha()) # False # all elements must be alphabets\n",
    "\n",
    "a = 'Magesh'\n",
    "print(2,a.isalpha()) # True\n",
    "\n",
    "\n",
    "a = 'I live in India my no is 2134324'\n",
    "print(3,a.isalnum()) # False # all elements must be alphabets | numbers\n",
    "\n",
    "\n",
    "a = 'Ilivinmynois2134324'\n",
    "print(4,a.isalnum()) # True\n",
    "\n",
    "\n",
    "a = '2134234'\n",
    "print(5,a.isdigit()) #True - all elements must be numbers\n",
    "\n",
    "a = '213.4234'\n",
    "print(6,a.isdigit()) # False\n",
    "\n",
    "a = '213.4234'\n",
    "print(7,a.isnumeric()) # False\n",
    "\n",
    "a = '213'\n",
    "print(8,a.isnumeric()) # True\n",
    "\n",
    "a = '213.4234'\n",
    "print(9,a.isdecimal()) # False"
   ]
  },
  {
   "cell_type": "code",
   "execution_count": 47,
   "metadata": {},
   "outputs": [
    {
     "name": "stdout",
     "output_type": "stream",
     "text": [
      "True\n",
      "False\n",
      "False\n",
      "False\n",
      "True\n"
     ]
    }
   ],
   "source": [
    "# endswith\n",
    "# startswith\n",
    "# 1. output will be in bool\n",
    "# 2. case sensitive\n",
    "\n",
    "# syntax:\n",
    "# str_element.function('substring')\n",
    "\n",
    "a = 'Natarajan'\n",
    "print(a.startswith('Nat')) # True\n",
    "print(a.startswith('nat')) # False\n",
    "print(a.startswith('nart')) # False\n",
    "\n",
    "print(a.endswith('Jan')) # False\n",
    "print(a.endswith('an')) # True"
   ]
  },
  {
   "cell_type": "markdown",
   "metadata": {},
   "source": [
    "# VERY VERY IMPORTANT:\n",
    "\n",
    "\n",
    "\n",
    "# index\n",
    "# find\n",
    "# count\n",
    "# join\n",
    "# split - list\n",
    "# replace\n",
    "\n",
    "\n",
    "# syntax:\n",
    "# str_element.function('substring')"
   ]
  },
  {
   "cell_type": "code",
   "execution_count": 58,
   "metadata": {},
   "outputs": [
    {
     "ename": "ValueError",
     "evalue": "substring not found",
     "output_type": "error",
     "traceback": [
      "\u001b[31m---------------------------------------------------------------------------\u001b[39m",
      "\u001b[31mValueError\u001b[39m                                Traceback (most recent call last)",
      "\u001b[36mCell\u001b[39m\u001b[36m \u001b[39m\u001b[32mIn[58]\u001b[39m\u001b[32m, line 2\u001b[39m\n\u001b[32m      1\u001b[39m a=\u001b[33m'\u001b[39m\u001b[33mnataragan loves sourav ganguly\u001b[39m\u001b[33m'\u001b[39m\n\u001b[32m----> \u001b[39m\u001b[32m2\u001b[39m \u001b[43ma\u001b[49m\u001b[43m.\u001b[49m\u001b[43mindex\u001b[49m\u001b[43m(\u001b[49m\u001b[33;43m'\u001b[39;49m\u001b[33;43mlike\u001b[39;49m\u001b[33;43m'\u001b[39;49m\u001b[43m)\u001b[49m\n",
      "\u001b[31mValueError\u001b[39m: substring not found"
     ]
    }
   ],
   "source": [
    "a='nataragan loves sourav ganguly'\n",
    "a.index('like')"
   ]
  },
  {
   "cell_type": "code",
   "execution_count": 6,
   "metadata": {},
   "outputs": [
    {
     "name": "stdout",
     "output_type": "stream",
     "text": [
      "13\n"
     ]
    }
   ],
   "source": [
    "# INDEX:\n",
    "\n",
    "# syntax:\n",
    "# str_element.index('substing')\n",
    "\n",
    "# optional:\n",
    "# str_element.index('substing',index_start)\n",
    "# str_element.index('substing',index_start,index_end)\n",
    "\n",
    "# 1. index number of the substing.\n",
    "# 2. first index number of the first occured substing.\n",
    "# 3. if the substring is not found it will throw error.\n",
    "# 4. casee sensitive\n",
    "\n",
    "a = 'I play Cricket fish'\n",
    "#    01234567890123\n",
    "\n",
    "# print(a.index('k')) # 11\n",
    "# print(a.index('c')) # 10\n",
    "\n",
    "# --------------------------\n",
    "\n",
    "a = 'I play crickect c fish'\n",
    "#    01234567890123\n",
    "\n",
    "# print(a.index('k')) # 11\n",
    "# print(a.index('c')) # 7\n",
    "# # print(a.index('cricket')) # 7\n",
    "# # print(a.index('cket')) # 10\n",
    "# print(a.index('c',9)) # 10\n",
    "print(a.index('c',12,15)) # 13"
   ]
  },
  {
   "cell_type": "code",
   "execution_count": 19,
   "metadata": {},
   "outputs": [
    {
     "name": "stdout",
     "output_type": "stream",
     "text": [
      "11\n",
      "10\n",
      "-1\n"
     ]
    }
   ],
   "source": [
    "# FIND:\n",
    "\n",
    "# similar to index\n",
    "# 1. if the substring is not found it will give you -1\n",
    "\n",
    "a = 'I play Cricket fish'\n",
    "#    01234567890123\n",
    "\n",
    "print(a.find('k')) # 11\n",
    "print(a.find('c')) # 10\n",
    "print(a.find('raj')) # -1"
   ]
  },
  {
   "cell_type": "code",
   "execution_count": 59,
   "metadata": {},
   "outputs": [
    {
     "name": "stdout",
     "output_type": "stream",
     "text": [
      "2\n",
      "8\n",
      "0\n",
      "3\n"
     ]
    }
   ],
   "source": [
    "# COUNT:\n",
    "\n",
    "# how many no of times the substring is repeated in the string.\n",
    "# casee sensitive\n",
    "\n",
    "# syntax:\n",
    "# str_element.count('substing')\n",
    "\n",
    "a = 'I plfishay cricket fish fishisto be out for silling'\n",
    "#    01234567890123\n",
    "\n",
    "print(a.count('c')) # 2\n",
    "print(a.count(' ')) # 8\n",
    "print(a.count('natraj')) # 0\n",
    "print(a.count('fish')) # 3"
   ]
  },
  {
   "cell_type": "code",
   "execution_count": 62,
   "metadata": {},
   "outputs": [
    {
     "data": {
      "text/plain": [
       "'s o o r a j'"
      ]
     },
     "execution_count": 62,
     "metadata": {},
     "output_type": "execute_result"
    }
   ],
   "source": [
    "# join:\n",
    "\n",
    "# syntax:\n",
    "# 'substing'.join(str_element)\n",
    "\n",
    "# 1. the substing will be added in between all the str elements/items\n",
    "\n",
    "a = 'Natarajan'\n",
    "# print('-'.join(a)) #N-a-t-a-r-a-j-a-n\n",
    "# print(' '.join(a)) #N a t a r a j a n\n",
    "# print('i'.join(a)) #Niaitiairiaijiain\n",
    "\" \".join('sooraj')"
   ]
  },
  {
   "cell_type": "code",
   "execution_count": 66,
   "metadata": {},
   "outputs": [
    {
     "name": "stdout",
     "output_type": "stream",
     "text": [
      "2 I play Criket fish\n"
     ]
    }
   ],
   "source": [
    "# REPLACE:\n",
    "# it will replace all the matched old data\n",
    "\n",
    "# syntax:\n",
    "# a.replace('old_substr','new_substr')\n",
    "\n",
    "# a = 'I play CriTket fish'\n",
    "# b = a.replace('T','c')\n",
    "# print(1, b)\n",
    "\n",
    "b= 'I play CriTket fiTsh'\n",
    "\n",
    "b = b.replace('T','')\n",
    "print(2, b)\n",
    "\n",
    "# a = 'I play CriTcket fiTsh'\n",
    "# b = a.replace('play','Eat')\n",
    "# print(3, b)\n",
    "\n",
    "# a = 'I play CriTcket fiTsh'\n",
    "# b = a.replace('plaY','Eat')\n",
    "# print(4, b)"
   ]
  },
  {
   "cell_type": "code",
   "execution_count": 67,
   "metadata": {},
   "outputs": [
    {
     "data": {
      "text/plain": [
       "'sooraj'"
      ]
     },
     "execution_count": 67,
     "metadata": {},
     "output_type": "execute_result"
    }
   ],
   "source": [
    "input()\n",
    "# alwyas otupt will be a data type of str"
   ]
  },
  {
   "cell_type": "code",
   "execution_count": 68,
   "metadata": {},
   "outputs": [
    {
     "name": "stdout",
     "output_type": "stream",
     "text": [
      "sooraj\n",
      "21\n",
      "male\n",
      "12345\n"
     ]
    }
   ],
   "source": [
    "a = input('Enter Your Name: ')\n",
    "print(a)\n",
    "a = input('Enter Your age')\n",
    "print(a)\n",
    "a = input('Enter Your sex')\n",
    "print(a)\n",
    "a = input('Enter Your mobile')\n",
    "print(a)"
   ]
  },
  {
   "cell_type": "code",
   "execution_count": 69,
   "metadata": {},
   "outputs": [
    {
     "data": {
      "text/plain": [
       "'natrajrosejack'"
      ]
     },
     "execution_count": 69,
     "metadata": {},
     "output_type": "execute_result"
    }
   ],
   "source": [
    "'natraj' + 'rose' + 'jack' # concatenate # natrajrose"
   ]
  },
  {
   "cell_type": "code",
   "execution_count": 26,
   "metadata": {},
   "outputs": [
    {
     "data": {
      "text/plain": [
       "'natrajnatrajnatraj'"
      ]
     },
     "execution_count": 26,
     "metadata": {},
     "output_type": "execute_result"
    }
   ],
   "source": [
    "'natraj' * 3 #natrajnatrajnatraj "
   ]
  },
  {
   "cell_type": "code",
   "execution_count": 71,
   "metadata": {},
   "outputs": [
    {
     "data": {
      "text/plain": [
       "'o n e o n e o n e o n e o n e o n e o n e o n e o n e o n e'"
      ]
     },
     "execution_count": 71,
     "metadata": {},
     "output_type": "execute_result"
    }
   ],
   "source": [
    "a='one' * 10\n",
    "\" \".join(a)"
   ]
  },
  {
   "cell_type": "code",
   "execution_count": 70,
   "metadata": {},
   "outputs": [
    {
     "ename": "TypeError",
     "evalue": "can only concatenate str (not \"int\") to str",
     "output_type": "error",
     "traceback": [
      "\u001b[31m---------------------------------------------------------------------------\u001b[39m",
      "\u001b[31mTypeError\u001b[39m                                 Traceback (most recent call last)",
      "\u001b[36mCell\u001b[39m\u001b[36m \u001b[39m\u001b[32mIn[70]\u001b[39m\u001b[32m, line 1\u001b[39m\n\u001b[32m----> \u001b[39m\u001b[32m1\u001b[39m \u001b[33;43m'\u001b[39;49m\u001b[33;43mmagesh\u001b[39;49m\u001b[33;43m'\u001b[39;49m\u001b[43m \u001b[49m\u001b[43m+\u001b[49m\u001b[43m \u001b[49m\u001b[32;43m34\u001b[39;49m\n",
      "\u001b[31mTypeError\u001b[39m: can only concatenate str (not \"int\") to str"
     ]
    }
   ],
   "source": [
    "'magesh' + 34"
   ]
  },
  {
   "cell_type": "code",
   "execution_count": 72,
   "metadata": {},
   "outputs": [
    {
     "ename": "IndexError",
     "evalue": "string index out of range",
     "output_type": "error",
     "traceback": [
      "\u001b[31m---------------------------------------------------------------------------\u001b[39m",
      "\u001b[31mIndexError\u001b[39m                                Traceback (most recent call last)",
      "\u001b[36mCell\u001b[39m\u001b[36m \u001b[39m\u001b[32mIn[72]\u001b[39m\u001b[32m, line 2\u001b[39m\n\u001b[32m      1\u001b[39m a = \u001b[33m'\u001b[39m\u001b[33mI play CriTket\u001b[39m\u001b[33m'\u001b[39m\n\u001b[32m----> \u001b[39m\u001b[32m2\u001b[39m \u001b[43ma\u001b[49m\u001b[43m[\u001b[49m\u001b[32;43m15\u001b[39;49m\u001b[43m]\u001b[49m \u001b[38;5;66;03m# str index out of range\u001b[39;00m\n",
      "\u001b[31mIndexError\u001b[39m: string index out of range"
     ]
    }
   ],
   "source": [
    "a = 'I play CriTket'\n",
    "a[15] # str index out of range"
   ]
  },
  {
   "cell_type": "code",
   "execution_count": null,
   "metadata": {},
   "outputs": [],
   "source": []
  },
  {
   "cell_type": "code",
   "execution_count": null,
   "metadata": {},
   "outputs": [],
   "source": []
  },
  {
   "cell_type": "code",
   "execution_count": null,
   "metadata": {},
   "outputs": [],
   "source": []
  }
 ],
 "metadata": {
  "kernelspec": {
   "display_name": "Python 3",
   "language": "python",
   "name": "python3"
  },
  "language_info": {
   "codemirror_mode": {
    "name": "ipython",
    "version": 3
   },
   "file_extension": ".py",
   "mimetype": "text/x-python",
   "name": "python",
   "nbconvert_exporter": "python",
   "pygments_lexer": "ipython3",
   "version": "3.11.1"
  }
 },
 "nbformat": 4,
 "nbformat_minor": 2
}
