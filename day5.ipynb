{
 "cells": [
  {
   "cell_type": "markdown",
   "metadata": {},
   "source": [
    "# DICT:\n",
    "\n",
    "# 1. for an elemnt it hsould have 2 data i.e in dict all the elements should have key value pair\n",
    "# 2. always will have unique keys\n",
    "# 3. if common key is given new key-value pair will be considired\n",
    "# 4. dict not suport indexing\n",
    "# 5. we can take value with the help of key & viceversa is not possible\n",
    "# 6. value can be updated dict[keyname] = 'new value'\n",
    "# 7. in update if the keyname is new. new key value paier will be created\n",
    "# 8. once the key is created it cannoct be updated\n",
    "# 9. value can be in any datatype\n",
    "# 10. key should be in int/float/str/bool/tuple"
   ]
  },
  {
   "cell_type": "code",
   "execution_count": null,
   "metadata": {},
   "outputs": [],
   "source": [
    "d = {'key' : 'value', 'key1' : 'value1', 'key2' : 'value2'}\n",
    "d"
   ]
  },
  {
   "cell_type": "code",
   "execution_count": 4,
   "metadata": {},
   "outputs": [
    {
     "data": {
      "text/plain": [
       "{'key': 'value', 'key1': 'Magesh', 'key2': 'value2'}"
      ]
     },
     "execution_count": 4,
     "metadata": {},
     "output_type": "execute_result"
    }
   ],
   "source": [
    "d = {'key' : 'value', 'key1' : 'value1', 'key2' : 'value2' ,'key1' : 'Magesh',}\n",
    "d"
   ]
  },
  {
   "cell_type": "code",
   "execution_count": 5,
   "metadata": {},
   "outputs": [
    {
     "name": "stdout",
     "output_type": "stream",
     "text": [
      "value2\n",
      "Magesh\n"
     ]
    },
    {
     "data": {
      "text/plain": [
       "{'key': 'value', 'key1': 'Magesh', 'key2': 100, 10: 'new key-vlaue'}"
      ]
     },
     "execution_count": 5,
     "metadata": {},
     "output_type": "execute_result"
    }
   ],
   "source": [
    "print(d['key2'])\n",
    "print(d['key1'])\n",
    "\n",
    "d['key2'] = 100\n",
    "\n",
    "d[10] = 'new key-vlaue'\n",
    "\n",
    "d"
   ]
  },
  {
   "cell_type": "code",
   "execution_count": 7,
   "metadata": {},
   "outputs": [
    {
     "ename": "TypeError",
     "evalue": "unhashable type: 'set'",
     "output_type": "error",
     "traceback": [
      "\u001b[0;31m---------------------------------------------------------------------------\u001b[0m",
      "\u001b[0;31mTypeError\u001b[0m                                 Traceback (most recent call last)",
      "Cell \u001b[0;32mIn[7], line 1\u001b[0m\n\u001b[0;32m----> 1\u001b[0m d \u001b[38;5;241m=\u001b[39m {\u001b[38;5;124m'\u001b[39m\u001b[38;5;124mkey\u001b[39m\u001b[38;5;124m'\u001b[39m : \u001b[38;5;124m'\u001b[39m\u001b[38;5;124mvalue\u001b[39m\u001b[38;5;124m'\u001b[39m, {\u001b[38;5;124m'\u001b[39m\u001b[38;5;124mkey1\u001b[39m\u001b[38;5;124m'\u001b[39m} : \u001b[38;5;124m'\u001b[39m\u001b[38;5;124mvalue1\u001b[39m\u001b[38;5;124m'\u001b[39m, \u001b[38;5;124m'\u001b[39m\u001b[38;5;124mkey2\u001b[39m\u001b[38;5;124m'\u001b[39m : \u001b[38;5;124m'\u001b[39m\u001b[38;5;124mvalue2\u001b[39m\u001b[38;5;124m'\u001b[39m ,\u001b[38;5;124m'\u001b[39m\u001b[38;5;124mkey1\u001b[39m\u001b[38;5;124m'\u001b[39m : \u001b[38;5;124m'\u001b[39m\u001b[38;5;124mMagesh\u001b[39m\u001b[38;5;124m'\u001b[39m,}\n",
      "\u001b[0;31mTypeError\u001b[0m: unhashable type: 'set'"
     ]
    }
   ],
   "source": [
    "d = {'key' : 'value', {'key1'} : 'value1', 'key2' : 'value2' ,'key1' : 'Magesh',}"
   ]
  },
  {
   "cell_type": "code",
   "execution_count": 6,
   "metadata": {},
   "outputs": [
    {
     "name": "stdout",
     "output_type": "stream",
     "text": [
      "Yellow\n",
      "Yellow\n"
     ]
    }
   ],
   "source": [
    "d = {'key' : 'value', 'key1' : 'value1', 'key2' : [ 'value2' , 'Rose', 'Yellow' ] ,'key1' : 'Magesh',}\n",
    "\n",
    "print(d['key2'][-1])\n",
    "print(d['key2'][2])"
   ]
  },
  {
   "cell_type": "code",
   "execution_count": null,
   "metadata": {},
   "outputs": [
    {
     "name": "stdout",
     "output_type": "stream",
     "text": [
      "['value2', {'Rose': ['Earth', 'Moon', 'Mars']}, 'Yellow']\n",
      "{'Rose': ['Earth', 'Moon', 'Mars']}\n",
      "['Earth', 'Moon', 'Mars']\n",
      "Moon\n"
     ]
    }
   ],
   "source": [
    "d = {'key' : 'value', 'key1' : 'value1', 'key2' : [ 'value2' , {'Rose':['Earth','Moon','Mars']}, 'Yellow' ] ,'key1' : 'Magesh',}\n",
    "\n",
    "print(d['key2'])\n",
    "print(d['key2'][1])\n",
    "print(d['key2'][1]['Rose'])\n",
    "print(d['key2'][1]['Rose'][1])"
   ]
  },
  {
   "cell_type": "code",
   "execution_count": null,
   "metadata": {},
   "outputs": [],
   "source": [
    "d['magesh'] # key error"
   ]
  },
  {
   "cell_type": "code",
   "execution_count": 7,
   "metadata": {},
   "outputs": [
    {
     "name": "stdout",
     "output_type": "stream",
     "text": [
      "dict_keys(['key', 'key1', 'key2'])\n",
      "dict_values(['value', 'Magesh', ['value2', {'Rose': ['Earth', 'Moon', 'Mars']}, 'Yellow']])\n",
      "dict_items([('key', 'value'), ('key1', 'Magesh'), ('key2', ['value2', {'Rose': ['Earth', 'Moon', 'Mars']}, 'Yellow'])])\n"
     ]
    }
   ],
   "source": [
    "# dict Methdos:\n",
    "d = {\n",
    "    'key' : 'value',\n",
    "    'key1' : 'value1',\n",
    "    'key2' : [ 'value2' , {'Rose':['Earth','Moon','Mars']}, 'Yellow' ] ,\n",
    "    'key1' : 'Magesh'\n",
    "    }\n",
    "\n",
    "\n",
    "print(d.keys())\n",
    "print(d.values())\n",
    "print(d.items()) # list of tuple [ (k,v) , (k1,v1) ,() ,() ...]"
   ]
  },
  {
   "cell_type": "code",
   "execution_count": 5,
   "metadata": {},
   "outputs": [
    {
     "data": {
      "text/plain": [
       "['__class__',\n",
       " '__class_getitem__',\n",
       " '__contains__',\n",
       " '__delattr__',\n",
       " '__delitem__',\n",
       " '__dir__',\n",
       " '__doc__',\n",
       " '__eq__',\n",
       " '__format__',\n",
       " '__ge__',\n",
       " '__getattribute__',\n",
       " '__getitem__',\n",
       " '__getstate__',\n",
       " '__gt__',\n",
       " '__hash__',\n",
       " '__init__',\n",
       " '__init_subclass__',\n",
       " '__ior__',\n",
       " '__iter__',\n",
       " '__le__',\n",
       " '__len__',\n",
       " '__lt__',\n",
       " '__ne__',\n",
       " '__new__',\n",
       " '__or__',\n",
       " '__reduce__',\n",
       " '__reduce_ex__',\n",
       " '__repr__',\n",
       " '__reversed__',\n",
       " '__ror__',\n",
       " '__setattr__',\n",
       " '__setitem__',\n",
       " '__sizeof__',\n",
       " '__str__',\n",
       " '__subclasshook__',\n",
       " 'clear',\n",
       " 'copy',\n",
       " 'fromkeys',\n",
       " 'get',\n",
       " 'items',\n",
       " 'keys',\n",
       " 'pop',\n",
       " 'popitem',\n",
       " 'setdefault',\n",
       " 'update',\n",
       " 'values']"
      ]
     },
     "execution_count": 5,
     "metadata": {},
     "output_type": "execute_result"
    }
   ],
   "source": [
    "dir(dict)"
   ]
  },
  {
   "cell_type": "code",
   "execution_count": 8,
   "metadata": {},
   "outputs": [
    {
     "name": "stdout",
     "output_type": "stream",
     "text": [
      "None\n",
      "no\n"
     ]
    }
   ],
   "source": [
    "print(d.get('magesh')) # None\n",
    "print(d.get('magesh','no')) # 'no' is default output if 'magesh' key is not present"
   ]
  },
  {
   "cell_type": "code",
   "execution_count": 9,
   "metadata": {},
   "outputs": [
    {
     "name": "stdout",
     "output_type": "stream",
     "text": [
      "key\n",
      "key1\n",
      "key2\n"
     ]
    }
   ],
   "source": [
    "for i in d.keys():\n",
    "  print(i)"
   ]
  },
  {
   "cell_type": "code",
   "execution_count": 10,
   "metadata": {},
   "outputs": [
    {
     "name": "stdout",
     "output_type": "stream",
     "text": [
      "key\n",
      "value\n",
      "----------\n",
      "key1\n",
      "Magesh\n",
      "----------\n",
      "key2\n",
      "['value2', {'Rose': ['Earth', 'Moon', 'Mars']}, 'Yellow']\n",
      "----------\n"
     ]
    }
   ],
   "source": [
    "for i in d.keys():\n",
    "  print(i) # key\n",
    "  print(d[i]) # value for that key\n",
    "  print(10*'-')"
   ]
  },
  {
   "cell_type": "code",
   "execution_count": 11,
   "metadata": {},
   "outputs": [
    {
     "name": "stdout",
     "output_type": "stream",
     "text": [
      "value\n",
      "Magesh\n",
      "['value2', {'Rose': ['Earth', 'Moon', 'Mars']}, 'Yellow']\n"
     ]
    }
   ],
   "source": [
    "for i in d.values():\n",
    "  print(i)"
   ]
  },
  {
   "cell_type": "code",
   "execution_count": 12,
   "metadata": {},
   "outputs": [
    {
     "name": "stdout",
     "output_type": "stream",
     "text": [
      "key\n",
      "value\n",
      "----------\n",
      "key1\n",
      "Magesh\n",
      "----------\n",
      "key2\n",
      "['value2', {'Rose': ['Earth', 'Moon', 'Mars']}, 'Yellow']\n",
      "----------\n"
     ]
    }
   ],
   "source": [
    "for i in d: # direct forloop will give u only keys\n",
    "  print(i)\n",
    "  print(d[i])\n",
    "  print(10*'-')"
   ]
  },
  {
   "cell_type": "code",
   "execution_count": null,
   "metadata": {},
   "outputs": [],
   "source": [
    "d.update({'magesh':[1,2,3],'name':['lisa','morgan','nana']})\n",
    "\n",
    "d"
   ]
  },
  {
   "cell_type": "code",
   "execution_count": null,
   "metadata": {},
   "outputs": [],
   "source": [
    "d.pop('magesh')\n",
    "d"
   ]
  },
  {
   "cell_type": "code",
   "execution_count": null,
   "metadata": {},
   "outputs": [],
   "source": [
    "# dir(dict)"
   ]
  },
  {
   "cell_type": "code",
   "execution_count": null,
   "metadata": {},
   "outputs": [],
   "source": [
    "# FUNCTIONS:\n",
    "\n",
    "# 1. inbuilds functions\n",
    "# 2. custom functions. / user functions\n",
    "      # 1. by using def keyword\n",
    "      # 2. by using lambda keyword"
   ]
  },
  {
   "cell_type": "code",
   "execution_count": 18,
   "metadata": {},
   "outputs": [],
   "source": [
    "def my_work():\n",
    "\n",
    "    money=10\n",
    "    j=1\n",
    "    for i in range(money):\n",
    "        j=money-i\n",
    "        print(j)\n",
    "\n"
   ]
  },
  {
   "cell_type": "code",
   "execution_count": 11,
   "metadata": {},
   "outputs": [
    {
     "name": "stdout",
     "output_type": "stream",
     "text": [
      "10\n",
      "9\n",
      "8\n",
      "7\n",
      "6\n",
      "5\n",
      "4\n",
      "3\n",
      "2\n",
      "1\n"
     ]
    }
   ],
   "source": [
    "my_work()"
   ]
  },
  {
   "cell_type": "code",
   "execution_count": 21,
   "metadata": {},
   "outputs": [
    {
     "data": {
      "text/plain": [
       "15"
      ]
     },
     "execution_count": 21,
     "metadata": {},
     "output_type": "execute_result"
    }
   ],
   "source": [
    "a = [1,2,3,4,5]\n",
    "\n",
    "def add(a):\n",
    "  j = 0\n",
    "  for i in a:\n",
    "    j = j+i\n",
    "\n",
    "  return j\n",
    "add(a)"
   ]
  },
  {
   "cell_type": "code",
   "execution_count": 20,
   "metadata": {},
   "outputs": [
    {
     "data": {
      "text/plain": [
       "100"
      ]
     },
     "execution_count": 20,
     "metadata": {},
     "output_type": "execute_result"
    }
   ],
   "source": [
    "b=[10,20,30,40]\n",
    "add(b)"
   ]
  },
  {
   "cell_type": "code",
   "execution_count": null,
   "metadata": {},
   "outputs": [],
   "source": [
    "# syntax:\n",
    "\n",
    "# def funName(): # to pass the arguments\n",
    "#   statement\n",
    "\n",
    "# funName() # call a fun\n",
    "\n",
    "# def funName(x,y,z): # positional arguments\n",
    "#   statement\n",
    "\n",
    "# funName(x,y,z)\n",
    "\n",
    "# 1. Creating/Defining a Function\n",
    "# 2. calling/use a function\n",
    "\n",
    "# 3. assigning a function"
   ]
  },
  {
   "cell_type": "code",
   "execution_count": 14,
   "metadata": {},
   "outputs": [
    {
     "name": "stdout",
     "output_type": "stream",
     "text": [
      "Inside a Function\n",
      "Welcome\n"
     ]
    }
   ],
   "source": [
    "def welcome(): # defining a fuc\n",
    "  print('Inside a Function')\n",
    "  print('Welcome')\n",
    "\n",
    "welcome()  # calling a fuc"
   ]
  },
  {
   "cell_type": "code",
   "execution_count": 15,
   "metadata": {},
   "outputs": [
    {
     "name": "stdout",
     "output_type": "stream",
     "text": [
      "Welcome Earth\n"
     ]
    }
   ],
   "source": [
    "def welcome(name): # defining a fuc\n",
    "  print('Welcome',name)\n",
    "\n",
    "welcome('Earth')  # calling a fuc"
   ]
  },
  {
   "cell_type": "code",
   "execution_count": 16,
   "metadata": {},
   "outputs": [
    {
     "name": "stdout",
     "output_type": "stream",
     "text": [
      "Your Name is Magesh\n",
      "Your age is 20\n",
      "Your sex is M\n",
      "Press 1 to Confirm\n",
      "Your Name is Shewtha\n",
      "Your age is 20\n",
      "Your sex is F\n",
      "Press 1 to Confirm\n"
     ]
    }
   ],
   "source": [
    "def personDetails(name,age,sex):\n",
    "  print('Your Name is',name)\n",
    "  print('Your age is',age)\n",
    "  print('Your sex is',sex)\n",
    "  print('Press 1 to Confirm')\n",
    "\n",
    "personDetails('Magesh',20,'M')\n",
    "personDetails('Shewtha',20,'F')"
   ]
  },
  {
   "cell_type": "code",
   "execution_count": 17,
   "metadata": {},
   "outputs": [
    {
     "name": "stdout",
     "output_type": "stream",
     "text": [
      "it is local variable\n",
      "one\n",
      "plubic or global\n"
     ]
    }
   ],
   "source": [
    "zebra1 = 'plubic or global'\n",
    "\n",
    "def localglobal(zebra):\n",
    "  print(\"it is local variable\")\n",
    "  print(zebra)\n",
    "  print(zebra1)\n",
    "\n",
    "# print(zebra) # it should not bw used globally\n",
    "\n",
    "localglobal('one')"
   ]
  },
  {
   "cell_type": "code",
   "execution_count": 24,
   "metadata": {},
   "outputs": [
    {
     "name": "stdout",
     "output_type": "stream",
     "text": [
      "26\n"
     ]
    }
   ],
   "source": [
    "# a = [1,2,3,4,5]\n",
    "\n",
    "def summation(element):\n",
    "  j = 0\n",
    "  for i in element:\n",
    "    j = j+i\n",
    "\n",
    "  print(j)\n",
    "\n",
    "summation([5,6,7,8])"
   ]
  },
  {
   "cell_type": "code",
   "execution_count": 19,
   "metadata": {},
   "outputs": [
    {
     "name": "stdout",
     "output_type": "stream",
     "text": [
      "Your Name is Magesh\n",
      "Your age is 20\n",
      "Your sex is M\n",
      "Press 1 to Confirm\n"
     ]
    }
   ],
   "source": [
    "def personDetails(name,age,sex):\n",
    "  print('Your Name is',name)\n",
    "  print('Your age is',age)\n",
    "  print('Your sex is',sex)\n",
    "  print('Press 1 to Confirm')\n",
    "\n",
    "name = 'Magesh'\n",
    "age = 20\n",
    "sex = 'M'\n",
    "\n",
    "personDetails(name,age,sex) # positional arguments"
   ]
  },
  {
   "cell_type": "code",
   "execution_count": 25,
   "metadata": {},
   "outputs": [
    {
     "ename": "NameError",
     "evalue": "name 'age' is not defined",
     "output_type": "error",
     "traceback": [
      "\u001b[0;31m---------------------------------------------------------------------------\u001b[0m",
      "\u001b[0;31mNameError\u001b[0m                                 Traceback (most recent call last)",
      "Cell \u001b[0;32mIn[25], line 9\u001b[0m\n\u001b[1;32m      6\u001b[0m   \u001b[38;5;28mprint\u001b[39m(\u001b[38;5;124m'\u001b[39m\u001b[38;5;124mYour sex is\u001b[39m\u001b[38;5;124m'\u001b[39m,sex)\n\u001b[1;32m      7\u001b[0m   \u001b[38;5;28mprint\u001b[39m(\u001b[38;5;124m'\u001b[39m\u001b[38;5;124mPress 1 to Confirm\u001b[39m\u001b[38;5;124m'\u001b[39m)\n\u001b[0;32m----> 9\u001b[0m personDetails(age\u001b[38;5;241m=\u001b[39m\u001b[43mage\u001b[49m,sex\u001b[38;5;241m=\u001b[39msex,name\u001b[38;5;241m=\u001b[39mname)\n",
      "\u001b[0;31mNameError\u001b[0m: name 'age' is not defined"
     ]
    }
   ],
   "source": [
    "# key word arguments:\n",
    "\n",
    "def personDetails(name,age,sex):\n",
    "  print('Your Name is',name)\n",
    "  print('Your age is',age)\n",
    "  print('Your sex is',sex)\n",
    "  print('Press 1 to Confirm')\n",
    "\n",
    "personDetails(age=age,sex=sex,name=name)"
   ]
  },
  {
   "cell_type": "code",
   "execution_count": 20,
   "metadata": {},
   "outputs": [
    {
     "name": "stdout",
     "output_type": "stream",
     "text": [
      "(1, 2)\n"
     ]
    }
   ],
   "source": [
    "# multiple arguments:\n",
    "\n",
    "\n",
    "def anynumbers(*args):\n",
    "  # args - will be intuple\n",
    "  print(args)\n",
    "\n",
    "anynumbers(1,2)"
   ]
  },
  {
   "cell_type": "code",
   "execution_count": 26,
   "metadata": {},
   "outputs": [
    {
     "ename": "NameError",
     "evalue": "name 'age' is not defined",
     "output_type": "error",
     "traceback": [
      "\u001b[0;31m---------------------------------------------------------------------------\u001b[0m",
      "\u001b[0;31mNameError\u001b[0m                                 Traceback (most recent call last)",
      "Cell \u001b[0;32mIn[26], line 8\u001b[0m\n\u001b[1;32m      4\u001b[0m \u001b[38;5;28;01mdef\u001b[39;00m \u001b[38;5;21manynumbers\u001b[39m(\u001b[38;5;241m*\u001b[39m\u001b[38;5;241m*\u001b[39mkwargs):\n\u001b[1;32m      5\u001b[0m   \u001b[38;5;66;03m# kwargs - will be dict\u001b[39;00m\n\u001b[1;32m      6\u001b[0m   \u001b[38;5;28mprint\u001b[39m(kwargs)\n\u001b[0;32m----> 8\u001b[0m anynumbers(age\u001b[38;5;241m=\u001b[39m\u001b[43mage\u001b[49m,sex\u001b[38;5;241m=\u001b[39msex,name\u001b[38;5;241m=\u001b[39mname)\n",
      "\u001b[0;31mNameError\u001b[0m: name 'age' is not defined"
     ]
    }
   ],
   "source": [
    "# multiple arguments:\n",
    "\n",
    "\n",
    "def anynumbers(**kwargs):\n",
    "  # kwargs - will be dict\n",
    "  print(kwargs)\n",
    "\n",
    "anynumbers(age=age,sex=sex,name=name)"
   ]
  },
  {
   "cell_type": "code",
   "execution_count": 22,
   "metadata": {},
   "outputs": [
    {
     "name": "stdout",
     "output_type": "stream",
     "text": [
      "15\n"
     ]
    }
   ],
   "source": [
    "a = [1,2,3,4,5]\n",
    "\n",
    "def summation(element):\n",
    "  j = 0\n",
    "  for i in a:\n",
    "    j = j+i\n",
    "\n",
    "  return j\n",
    "  print(\"Hi\")\n",
    "\n",
    "print(summation([5,6,7,8])) # None"
   ]
  },
  {
   "cell_type": "code",
   "execution_count": null,
   "metadata": {},
   "outputs": [],
   "source": [
    "# when a fun return that is the orginal output\n",
    "# if function is not returning its otuput will be None\n",
    "# one function will return only one time\n",
    "# when a fun returns one tiem the entire fun will get closed"
   ]
  },
  {
   "cell_type": "code",
   "execution_count": 23,
   "metadata": {},
   "outputs": [
    {
     "name": "stdout",
     "output_type": "stream",
     "text": [
      "234\n",
      "Magesh\n",
      "State\n",
      "TamilNadu\n",
      "33\n",
      "Magesh\n",
      "State\n",
      "TamilNadu\n"
     ]
    },
    {
     "data": {
      "text/plain": [
       "7"
      ]
     },
     "execution_count": 23,
     "metadata": {},
     "output_type": "execute_result"
    }
   ],
   "source": [
    "a = [1,2,3,4,5]\n",
    "\n",
    "def summation(element):\n",
    "  j = 0\n",
    "  for i in element:\n",
    "    j = j+i\n",
    "\n",
    "  print(j)\n",
    "  print('Magesh')\n",
    "  print('State')\n",
    "  print('TamilNadu')\n",
    "\n",
    "  return j # orginal output of a fun\n",
    "\n",
    "\n",
    "summation([1,10,111,112]) // summation([10,11,12])"
   ]
  },
  {
   "cell_type": "code",
   "execution_count": null,
   "metadata": {},
   "outputs": [],
   "source": [
    "a = [1,2,3,4,5]\n",
    "\n",
    "def summation(element):\n",
    "  j = 0\n",
    "  for i in element:\n",
    "    j = j+i\n",
    "\n",
    "  return j # orginal output of a fun\n",
    "\n",
    "\n",
    "summation([1,10,111,112])"
   ]
  },
  {
   "cell_type": "code",
   "execution_count": null,
   "metadata": {},
   "outputs": [],
   "source": [
    "a = [1,2,3,4,5]\n",
    "\n",
    "def summation(element):\n",
    "  j = 0\n",
    "  for i in element:\n",
    "    j = j+i\n",
    "\n",
    "  print('before return',j)\n",
    "  return 10\n",
    "  print('after return',j)\n",
    "\n",
    "  return j # orginal output of a fun\n",
    "\n",
    "\n",
    "b = summation([1,10,111,112]) + summation(a)\n",
    "\n",
    "print(b)"
   ]
  },
  {
   "cell_type": "code",
   "execution_count": null,
   "metadata": {},
   "outputs": [],
   "source": [
    "# when a fun return that is the orginal output\n",
    "# if function is not returning its otuput will be None\n",
    "# one function will return only one time\n",
    "# when a fun returns one time the entire fun will get closed i.e anything below fun will not be executed"
   ]
  },
  {
   "cell_type": "code",
   "execution_count": 24,
   "metadata": {},
   "outputs": [
    {
     "name": "stdout",
     "output_type": "stream",
     "text": [
      "6.3\n"
     ]
    }
   ],
   "source": [
    "def problemcheck(a,b):\n",
    "  if a>b:\n",
    "    return a\n",
    "  return b\n",
    "  \n",
    "c = problemcheck(10,12) - problemcheck(5.7,3)\n",
    "# c = 12 - 5.7\n",
    "\n",
    "print(c)"
   ]
  },
  {
   "cell_type": "code",
   "execution_count": 26,
   "metadata": {},
   "outputs": [
    {
     "name": "stdout",
     "output_type": "stream",
     "text": [
      "20\n"
     ]
    }
   ],
   "source": [
    "def checking(value):\n",
    "  if value:\n",
    "    return value // 5\n",
    "\n",
    "  return 'Magesh'\n",
    "\n",
    "# print(checking('')) # Magesh\n",
    "print(checking(100)) # 20"
   ]
  },
  {
   "cell_type": "code",
   "execution_count": 35,
   "metadata": {},
   "outputs": [
    {
     "data": {
      "text/plain": [
       "True"
      ]
     },
     "execution_count": 35,
     "metadata": {},
     "output_type": "execute_result"
    }
   ],
   "source": [
    "def value(analyze):\n",
    "  if analyze >= 10 :\n",
    "    return False\n",
    "  else:\n",
    "    return True\n",
    "\n",
    "value(9)"
   ]
  },
  {
   "cell_type": "code",
   "execution_count": 38,
   "metadata": {},
   "outputs": [
    {
     "name": "stdout",
     "output_type": "stream",
     "text": [
      "Bad\n",
      "Gooing Good\n"
     ]
    }
   ],
   "source": [
    "def checkingcond(a):\n",
    "    if value(50):\n",
    "      print('Good')\n",
    "    else:\n",
    "      print('Bad')\n",
    "\n",
    "    if value(8):\n",
    "      print('Gooing Good')\n",
    "    else:\n",
    "      print('Going bad')\n",
    "\n",
    "checkingcond(50)"
   ]
  },
  {
   "cell_type": "code",
   "execution_count": 41,
   "metadata": {},
   "outputs": [
    {
     "name": "stdout",
     "output_type": "stream",
     "text": [
      "Bad\n",
      "Gooing Good\n",
      "Good\n",
      "Going bad\n"
     ]
    }
   ],
   "source": [
    "# function as argument:\n",
    "# in that case function should be assigned\n",
    "\n",
    "def value(analyze):\n",
    "  if analyze >= 10 :\n",
    "    return False\n",
    "  else:\n",
    "    return True\n",
    "\n",
    "def value2(dyn):\n",
    "  if dyn > 10:\n",
    "    return True\n",
    "  else:\n",
    "    return False\n",
    "\n",
    "def checkingcond(anyname):\n",
    "    if anyname(50):\n",
    "      print('Good')\n",
    "    else:\n",
    "      print('Bad')\n",
    "\n",
    "    if anyname(8):\n",
    "      print('Gooing Good')\n",
    "    else:\n",
    "      print('Going bad')\n",
    "\n",
    "checkingcond(value)\n",
    "checkingcond(value2)"
   ]
  },
  {
   "cell_type": "code",
   "execution_count": null,
   "metadata": {},
   "outputs": [],
   "source": [
    "# math:\n",
    "import math\n",
    "\n",
    "# dir(math)"
   ]
  },
  {
   "cell_type": "code",
   "execution_count": null,
   "metadata": {},
   "outputs": [],
   "source": [
    "math.pow(2,4)"
   ]
  },
  {
   "cell_type": "code",
   "execution_count": null,
   "metadata": {},
   "outputs": [],
   "source": [
    "print(math.floor(12312.12323)) # strict decrement\n",
    "print(math.floor(12312.9999999)) # strict decrement\n",
    "print(math.ceil(12312.12323)) # strict increment\n",
    "print(math.ceil(12312.00000001))"
   ]
  },
  {
   "cell_type": "code",
   "execution_count": null,
   "metadata": {},
   "outputs": [],
   "source": [
    "print(round(12312.9999999)) # .5> will do increment\n",
    "print(round(12312.49999)) # .5=< will do decrement\n",
    "print(round(12312.501)) # .5< will do increment\n",
    "print(round(12312.50123423,3))"
   ]
  },
  {
   "cell_type": "code",
   "execution_count": 30,
   "metadata": {},
   "outputs": [],
   "source": [
    "def natraj(a):\n",
    "    b=[]\n",
    "    for i in a:\n",
    "        b.append(i)\n",
    "\n",
    "    c=sum(b)\n",
    "    return c  \n",
    " "
   ]
  },
  {
   "cell_type": "code",
   "execution_count": 31,
   "metadata": {},
   "outputs": [
    {
     "data": {
      "text/plain": [
       "100"
      ]
     },
     "execution_count": 31,
     "metadata": {},
     "output_type": "execute_result"
    }
   ],
   "source": [
    "natraj([10,20,30,40])"
   ]
  }
 ],
 "metadata": {
  "kernelspec": {
   "display_name": "Python 3",
   "language": "python",
   "name": "python3"
  },
  "language_info": {
   "codemirror_mode": {
    "name": "ipython",
    "version": 3
   },
   "file_extension": ".py",
   "mimetype": "text/x-python",
   "name": "python",
   "nbconvert_exporter": "python",
   "pygments_lexer": "ipython3",
   "version": "3.11.1"
  }
 },
 "nbformat": 4,
 "nbformat_minor": 2
}
