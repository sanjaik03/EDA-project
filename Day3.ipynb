{
 "cells": [
  {
   "cell_type": "code",
   "execution_count": null,
   "metadata": {},
   "outputs": [],
   "source": [
    "# LIST:\n",
    "\n",
    "# list is a heterogeneous datatype. i.e any datatype can be inside a list\n",
    "# list is a collection of datatype.\n",
    "# elements/items are seperated by comma."
   ]
  },
  {
   "cell_type": "code",
   "execution_count": null,
   "metadata": {},
   "outputs": [],
   "source": [
    "sooraj=[21.5, \"BBA\", \"Palakad\", 12345]"
   ]
  },
  {
   "cell_type": "code",
   "execution_count": 1,
   "metadata": {},
   "outputs": [],
   "source": [
    "a='sooraj'\n",
    "b=list(a)"
   ]
  },
  {
   "cell_type": "code",
   "execution_count": 2,
   "metadata": {},
   "outputs": [
    {
     "data": {
      "text/plain": [
       "['s', 'o', 'o', 'r', 'a', 'j']"
      ]
     },
     "execution_count": 2,
     "metadata": {},
     "output_type": "execute_result"
    }
   ],
   "source": [
    "b"
   ]
  },
  {
   "cell_type": "code",
   "execution_count": 3,
   "metadata": {},
   "outputs": [
    {
     "ename": "TypeError",
     "evalue": "'int' object is not iterable",
     "output_type": "error",
     "traceback": [
      "\u001b[31m---------------------------------------------------------------------------\u001b[39m",
      "\u001b[31mTypeError\u001b[39m                                 Traceback (most recent call last)",
      "\u001b[36mCell\u001b[39m\u001b[36m \u001b[39m\u001b[32mIn[3]\u001b[39m\u001b[32m, line 2\u001b[39m\n\u001b[32m      1\u001b[39m a=\u001b[32m12345\u001b[39m\n\u001b[32m----> \u001b[39m\u001b[32m2\u001b[39m \u001b[38;5;28;43mlist\u001b[39;49m\u001b[43m(\u001b[49m\u001b[43ma\u001b[49m\u001b[43m)\u001b[49m\n",
      "\u001b[31mTypeError\u001b[39m: 'int' object is not iterable"
     ]
    }
   ],
   "source": [
    "a=12345\n",
    "list(a)"
   ]
  },
  {
   "cell_type": "code",
   "execution_count": null,
   "metadata": {},
   "outputs": [],
   "source": [
    "str() # ''\n",
    "\n",
    "list() # []"
   ]
  },
  {
   "cell_type": "code",
   "execution_count": null,
   "metadata": {},
   "outputs": [],
   "source": [
    "a = [1,2,3,4,5]\n",
    "# indexing & slicing are common as str"
   ]
  },
  {
   "cell_type": "code",
   "execution_count": 5,
   "metadata": {},
   "outputs": [],
   "source": [
    "a = [1,23.5,'magesh',11,223,213,'rose','earth','moon']\n",
    "#.   0  1     2       3  4   5    6       7       8"
   ]
  },
  {
   "cell_type": "code",
   "execution_count": 14,
   "metadata": {},
   "outputs": [
    {
     "data": {
      "text/plain": [
       "'th'"
      ]
     },
     "execution_count": 14,
     "metadata": {},
     "output_type": "execute_result"
    }
   ],
   "source": [
    "a[7][3:4+1]"
   ]
  },
  {
   "cell_type": "code",
   "execution_count": 9,
   "metadata": {},
   "outputs": [
    {
     "data": {
      "text/plain": [
       "'moon'"
      ]
     },
     "execution_count": 9,
     "metadata": {},
     "output_type": "execute_result"
    }
   ],
   "source": [
    "a[-1]"
   ]
  },
  {
   "cell_type": "code",
   "execution_count": 10,
   "metadata": {},
   "outputs": [
    {
     "name": "stdout",
     "output_type": "stream",
     "text": [
      "['rose', 'earth']\n"
     ]
    }
   ],
   "source": [
    "print(a[6:8])\n",
    "# print(a[2])\n",
    "# ['rose','earth']"
   ]
  },
  {
   "cell_type": "code",
   "execution_count": 16,
   "metadata": {},
   "outputs": [
    {
     "data": {
      "text/plain": [
       "'htrae'"
      ]
     },
     "execution_count": 16,
     "metadata": {},
     "output_type": "execute_result"
    }
   ],
   "source": [
    "a[7][-1:-5-1:-1]"
   ]
  },
  {
   "cell_type": "code",
   "execution_count": 11,
   "metadata": {},
   "outputs": [
    {
     "name": "stdout",
     "output_type": "stream",
     "text": [
      "['magesh', 11, 223, 213]\n"
     ]
    }
   ],
   "source": [
    "print(a[2:5+1])"
   ]
  },
  {
   "cell_type": "code",
   "execution_count": 3,
   "metadata": {},
   "outputs": [
    {
     "name": "stdout",
     "output_type": "stream",
     "text": [
      "earth\n"
     ]
    },
    {
     "data": {
      "text/plain": [
       "str"
      ]
     },
     "execution_count": 3,
     "metadata": {},
     "output_type": "execute_result"
    }
   ],
   "source": [
    "# earth\n",
    "\n",
    "print(a[7])\n",
    "type(a[7]) # str"
   ]
  },
  {
   "cell_type": "code",
   "execution_count": 4,
   "metadata": {},
   "outputs": [
    {
     "name": "stdout",
     "output_type": "stream",
     "text": [
      "ear\n",
      "ear\n"
     ]
    }
   ],
   "source": [
    "a1 = a[7]\n",
    "b = a1\n",
    "print(b[:3])\n",
    "print(a[7][:3])"
   ]
  },
  {
   "cell_type": "code",
   "execution_count": null,
   "metadata": {},
   "outputs": [
    {
     "name": "stdout",
     "output_type": "stream",
     "text": [
      "['1', '2', '3', '4', '56']\n",
      "['1-2-3-4-', '6']\n"
     ]
    }
   ],
   "source": [
    "# SPLIT only for str:\n",
    "\n",
    "# a = '1 2 3 4 5'\n",
    "a = '1-2-3-4-56'\n",
    "\n",
    "# ['1','2','3','4','5']\n",
    "\n",
    "# syntax:\n",
    "# listItem.split('substring')\n",
    "\n",
    "# b = a.split('substring')\n",
    "\n",
    "# 1. output will be in list datatype\n",
    "# 2. items will be in str.\n",
    "# 3. substring will be removed in the output\n",
    "# 4. whenever there is a substring there occurs a break the elements will be considired as list items\n",
    "\n",
    "print(a.split('-')) # ['1','2','3','4','56']\n",
    "print(a.split('5')) # ['1-2-3-4-','6']"
   ]
  },
  {
   "cell_type": "code",
   "execution_count": null,
   "metadata": {},
   "outputs": [],
   "source": [
    "# LIST METHDOS:"
   ]
  },
  {
   "cell_type": "code",
   "execution_count": 21,
   "metadata": {},
   "outputs": [
    {
     "data": {
      "text/plain": [
       "6"
      ]
     },
     "execution_count": 21,
     "metadata": {},
     "output_type": "execute_result"
    }
   ],
   "source": [
    "len([1,2,3,4,'natraj','1']) # 6"
   ]
  },
  {
   "cell_type": "code",
   "execution_count": 24,
   "metadata": {},
   "outputs": [
    {
     "name": "stdout",
     "output_type": "stream",
     "text": [
      "20.5\n",
      "5\n",
      "1\n"
     ]
    }
   ],
   "source": [
    "print(sum([1,2,3,4,5,5.5])) # only int or float\n",
    "print(max([1,2,3.3,4,5])) # all items should be int or float\n",
    "print(min([1,2,3,4,5.5])) # all items should be int or float"
   ]
  },
  {
   "cell_type": "code",
   "execution_count": 28,
   "metadata": {},
   "outputs": [
    {
     "data": {
      "text/plain": [
       "'sxd'"
      ]
     },
     "execution_count": 28,
     "metadata": {},
     "output_type": "execute_result"
    }
   ],
   "source": [
    "max(['aim','sxd','ssi']) # lexiographical"
   ]
  },
  {
   "cell_type": "code",
   "execution_count": null,
   "metadata": {},
   "outputs": [],
   "source": [
    "# append - pop\n",
    "# extend\n",
    "# str - split-\n",
    "# list - join()\n",
    "# count()\n",
    "# index()"
   ]
  },
  {
   "cell_type": "code",
   "execution_count": 29,
   "metadata": {},
   "outputs": [
    {
     "data": {
      "text/plain": [
       "['__add__',\n",
       " '__class__',\n",
       " '__class_getitem__',\n",
       " '__contains__',\n",
       " '__delattr__',\n",
       " '__delitem__',\n",
       " '__dir__',\n",
       " '__doc__',\n",
       " '__eq__',\n",
       " '__format__',\n",
       " '__ge__',\n",
       " '__getattribute__',\n",
       " '__getitem__',\n",
       " '__getstate__',\n",
       " '__gt__',\n",
       " '__hash__',\n",
       " '__iadd__',\n",
       " '__imul__',\n",
       " '__init__',\n",
       " '__init_subclass__',\n",
       " '__iter__',\n",
       " '__le__',\n",
       " '__len__',\n",
       " '__lt__',\n",
       " '__mul__',\n",
       " '__ne__',\n",
       " '__new__',\n",
       " '__reduce__',\n",
       " '__reduce_ex__',\n",
       " '__repr__',\n",
       " '__reversed__',\n",
       " '__rmul__',\n",
       " '__setattr__',\n",
       " '__setitem__',\n",
       " '__sizeof__',\n",
       " '__str__',\n",
       " '__subclasshook__',\n",
       " 'append',\n",
       " 'clear',\n",
       " 'copy',\n",
       " 'count',\n",
       " 'extend',\n",
       " 'index',\n",
       " 'insert',\n",
       " 'pop',\n",
       " 'remove',\n",
       " 'reverse',\n",
       " 'sort']"
      ]
     },
     "execution_count": 29,
     "metadata": {},
     "output_type": "execute_result"
    }
   ],
   "source": [
    "dir(list)"
   ]
  },
  {
   "cell_type": "code",
   "execution_count": null,
   "metadata": {},
   "outputs": [],
   "source": [
    "# 1. append()\n",
    "\n",
    "# 1. it will add any_element to the end of the list\n",
    "# 2. any_element should be only one element\n",
    "# 3. any_element i.e any datatype\n",
    "\n",
    "# syntax:\n",
    "# list_element.append(any_element)\n",
    "# list.append(any_element)\n",
    "\n",
    "# syntax:\n",
    "# a.append(item)\n",
    "\n",
    "a = [1,2,'m',5]\n",
    "\n",
    "# a.append('one') # [1,2,'m',5,'one']\n",
    "a.append(['one',2,3]) # [1,2,'m',5,['one',2,3]]\n",
    "a.append('one')"
   ]
  },
  {
   "cell_type": "code",
   "execution_count": 30,
   "metadata": {},
   "outputs": [
    {
     "data": {
      "text/plain": [
       "['sooraj', 'plakad', 21]"
      ]
     },
     "execution_count": 30,
     "metadata": {},
     "output_type": "execute_result"
    }
   ],
   "source": [
    "a=['sooraj','plakad']\n",
    "a.append(21)\n",
    "a"
   ]
  },
  {
   "cell_type": "code",
   "execution_count": 31,
   "metadata": {},
   "outputs": [
    {
     "data": {
      "text/plain": [
       "['sooraj', 'plakad', 21, 123456]"
      ]
     },
     "execution_count": 31,
     "metadata": {},
     "output_type": "execute_result"
    }
   ],
   "source": [
    "a.append(123456)\n",
    "a"
   ]
  },
  {
   "cell_type": "code",
   "execution_count": 32,
   "metadata": {},
   "outputs": [],
   "source": [
    "b=['BBA', 'karpagam', 2024]\n",
    "a.extend(b)"
   ]
  },
  {
   "cell_type": "code",
   "execution_count": 34,
   "metadata": {},
   "outputs": [
    {
     "data": {
      "text/plain": [
       "['sooraj', 'plakad', 21, 123456, 'BBA', 'karpagam', 2024]"
      ]
     },
     "execution_count": 34,
     "metadata": {},
     "output_type": "execute_result"
    }
   ],
   "source": [
    "a"
   ]
  },
  {
   "cell_type": "code",
   "execution_count": 35,
   "metadata": {},
   "outputs": [
    {
     "data": {
      "text/plain": [
       "'n'"
      ]
     },
     "execution_count": 35,
     "metadata": {},
     "output_type": "execute_result"
    }
   ],
   "source": [
    "a1 = [1, 2, 'm', 5, ['one', 21, 31], 'one']\n",
    "#     0  1   2   3          4           5\n",
    "\n",
    "a1[4][0][1]"
   ]
  },
  {
   "cell_type": "code",
   "execution_count": null,
   "metadata": {},
   "outputs": [],
   "source": [
    "# pop:\n",
    "# by default it will remove last item\n",
    "\n",
    "# syntax:\n",
    "# listitem.pop()\n",
    "\n",
    "# listitem.pop(index)\n",
    "\n",
    "a = [1, 2, 'm', 5, ['one', 2, 3]]\n",
    "\n",
    "a.pop() # ['one', 2, 3]\n",
    "\n",
    "a # [1, 2, 'm', 5]"
   ]
  },
  {
   "cell_type": "code",
   "execution_count": 36,
   "metadata": {},
   "outputs": [
    {
     "data": {
      "text/plain": [
       "[1, 2, 'm', ['one', 2, 3]]"
      ]
     },
     "execution_count": 36,
     "metadata": {},
     "output_type": "execute_result"
    }
   ],
   "source": [
    "a = [1, 2, 'm', 5, ['one', 2, 3]]\n",
    "\n",
    "a.pop(3)\n",
    "\n",
    "a"
   ]
  },
  {
   "cell_type": "code",
   "execution_count": 37,
   "metadata": {},
   "outputs": [
    {
     "name": "stdout",
     "output_type": "stream",
     "text": [
      "[10, 20, 25, 30, 40]\n"
     ]
    }
   ],
   "source": [
    "# insert - based on index will add element anywhere\n",
    "\n",
    "# syntax - list.insert(index, element)\n",
    "\n",
    "numbers = [10, 20, 30, 40]\n",
    "numbers.insert(2, 25)  # Insert 25 at index 2\n",
    "\n",
    "print(numbers)\n"
   ]
  },
  {
   "cell_type": "code",
   "execution_count": 38,
   "metadata": {},
   "outputs": [
    {
     "data": {
      "text/plain": [
       "[10, 20, 30, 40, 25]"
      ]
     },
     "execution_count": 38,
     "metadata": {},
     "output_type": "execute_result"
    }
   ],
   "source": [
    "numbers = [10, 20, 30, 40]\n",
    "numbers.append(25)\n",
    "numbers"
   ]
  },
  {
   "cell_type": "code",
   "execution_count": null,
   "metadata": {},
   "outputs": [
    {
     "name": "stdout",
     "output_type": "stream",
     "text": [
      "['apple', 'banana', 'cherry', 'orange', 'grape', 'mango']\n"
     ]
    }
   ],
   "source": [
    "# extend - multiple items at the last:\n",
    "\n",
    "# syntax - list.extend()\n",
    "\n",
    "# Original list\n",
    "fruits = [\"apple\", \"banana\", \"cherry\"]\n",
    "\n",
    "# Another list to extend\n",
    "more_fruits = [\"orange\", \"grape\", \"mango\"]\n",
    "\n",
    "# Using extend() to add more_fruits to fruits\n",
    "fruits.extend(more_fruits)\n",
    "\n",
    "print(fruits)  \n"
   ]
  },
  {
   "cell_type": "code",
   "execution_count": null,
   "metadata": {},
   "outputs": [],
   "source": [
    "# non - iterable dataypte - int,float,bool,None\n",
    "# iterable dataypte       - str, list , tuple, set , dict ,range"
   ]
  },
  {
   "cell_type": "code",
   "execution_count": 7,
   "metadata": {},
   "outputs": [
    {
     "name": "stdout",
     "output_type": "stream",
     "text": [
      "[1, 2, 3, 'mag']\n",
      "[1, 2, 3]\n"
     ]
    }
   ],
   "source": [
    "a = [1,2,3]\n",
    "b = a.copy() # will create a new memory\n",
    "\n",
    "a.append('mag')\n",
    "\n",
    "print(a) # [1,2,3,'mag']\n",
    "print(b) # [1,2,3]"
   ]
  },
  {
   "cell_type": "code",
   "execution_count": null,
   "metadata": {},
   "outputs": [
    {
     "name": "stdout",
     "output_type": "stream",
     "text": [
      "[1, 2, 3, 'mag']\n",
      "[1, 2, 3, 'mag']\n"
     ]
    }
   ],
   "source": [
    "a = [1,2,3]\n",
    "b = a \n",
    "\n",
    "a.append('mag')\n",
    "\n",
    "print(a) # [1,2,3,'mag']\n",
    "print(b) # [1,2,3]"
   ]
  },
  {
   "cell_type": "code",
   "execution_count": null,
   "metadata": {},
   "outputs": [],
   "source": [
    "# count:\n",
    "\n",
    "# listItem.count(item) \n",
    "\n",
    "a = [1,2,3,4,5,1,2,1,1,'1']\n",
    "print(a.count(1)) # 4\n",
    "print(a.count('1')) # 1"
   ]
  },
  {
   "cell_type": "code",
   "execution_count": 39,
   "metadata": {},
   "outputs": [
    {
     "name": "stdout",
     "output_type": "stream",
     "text": [
      "0\n",
      "3\n"
     ]
    },
    {
     "ename": "ValueError",
     "evalue": "'z' is not in list",
     "output_type": "error",
     "traceback": [
      "\u001b[31m---------------------------------------------------------------------------\u001b[39m",
      "\u001b[31mValueError\u001b[39m                                Traceback (most recent call last)",
      "\u001b[36mCell\u001b[39m\u001b[36m \u001b[39m\u001b[32mIn[39]\u001b[39m\u001b[32m, line 6\u001b[39m\n\u001b[32m      4\u001b[39m \u001b[38;5;28mprint\u001b[39m(a.index(\u001b[32m1\u001b[39m)) \u001b[38;5;66;03m# 0\u001b[39;00m\n\u001b[32m      5\u001b[39m \u001b[38;5;28mprint\u001b[39m(a.index(\u001b[33m'\u001b[39m\u001b[33m1\u001b[39m\u001b[33m'\u001b[39m)) \u001b[38;5;66;03m# 3\u001b[39;00m\n\u001b[32m----> \u001b[39m\u001b[32m6\u001b[39m \u001b[38;5;28mprint\u001b[39m(\u001b[43ma\u001b[49m\u001b[43m.\u001b[49m\u001b[43mindex\u001b[49m\u001b[43m(\u001b[49m\u001b[33;43m'\u001b[39;49m\u001b[33;43mz\u001b[39;49m\u001b[33;43m'\u001b[39;49m\u001b[43m)\u001b[49m) \u001b[38;5;66;03m# Error\u001b[39;00m\n",
      "\u001b[31mValueError\u001b[39m: 'z' is not in list"
     ]
    }
   ],
   "source": [
    "# index is smilar to str index:\n",
    "\n",
    "a = [1,2,3,'1',4,5,1,2,1,1,'1']\n",
    "print(a.index(1)) # 0\n",
    "print(a.index('1')) # 3\n",
    "print(a.index('z')) # Error"
   ]
  },
  {
   "cell_type": "code",
   "execution_count": 41,
   "metadata": {},
   "outputs": [
    {
     "name": "stdout",
     "output_type": "stream",
     "text": [
      "[1, 2, 3, 3, 4, 4, 5, 23, 23, 32, 34, 45, 54, 534]\n",
      "[534, 54, 45, 34, 32, 23, 23, 5, 4, 4, 3, 3, 2, 1]\n"
     ]
    }
   ],
   "source": [
    "a = [1,2,3,534,23,54,23,4,34,5,32,4,3,45]\n",
    "a.sort(reverse=False)\n",
    "\n",
    "# sorted(listItem) - check this method\n",
    "\n",
    "\n",
    "print(a) # ascending order by default\n",
    "print(a[::-1])"
   ]
  },
  {
   "cell_type": "code",
   "execution_count": 42,
   "metadata": {},
   "outputs": [
    {
     "data": {
      "text/plain": [
       "[45, 3, 4, 32, 5, 34, 4, 23, 54, 23, 534, 3, 2, 1]"
      ]
     },
     "execution_count": 42,
     "metadata": {},
     "output_type": "execute_result"
    }
   ],
   "source": [
    "a = [1,2,3,534,23,54,23,4,34,5,32,4,3,45]\n",
    "a.reverse()\n",
    "a"
   ]
  },
  {
   "cell_type": "code",
   "execution_count": null,
   "metadata": {},
   "outputs": [],
   "source": [
    "# join - similar to str\n",
    "\n",
    "# 1. all the elements in that list should be str\n",
    "# 2. output will be str"
   ]
  },
  {
   "cell_type": "code",
   "execution_count": null,
   "metadata": {},
   "outputs": [],
   "source": [
    "a = '1 2 3 4 5'\n",
    "# 12345\n",
    "# 1-2-3-4-5\n",
    "\n",
    "b = a.split() # a.split(' ')\n",
    "\n",
    "print(b)\n",
    "\n",
    "print(''.join(b))\n",
    "print('-'.join(b))"
   ]
  },
  {
   "cell_type": "code",
   "execution_count": 44,
   "metadata": {},
   "outputs": [
    {
     "data": {
      "text/plain": [
       "'sooraj@plakad@BBA@karpagam'"
      ]
     },
     "execution_count": 44,
     "metadata": {},
     "output_type": "execute_result"
    }
   ],
   "source": [
    "a=['sooraj', 'plakad', 'BBA', 'karpagam']\n",
    "b=\"@\".join(a)\n",
    "b"
   ]
  },
  {
   "cell_type": "code",
   "execution_count": 45,
   "metadata": {},
   "outputs": [
    {
     "data": {
      "text/plain": [
       "True"
      ]
     },
     "execution_count": 45,
     "metadata": {},
     "output_type": "execute_result"
    }
   ],
   "source": [
    "True and True"
   ]
  },
  {
   "cell_type": "code",
   "execution_count": 46,
   "metadata": {},
   "outputs": [
    {
     "data": {
      "text/plain": [
       "False"
      ]
     },
     "execution_count": 46,
     "metadata": {},
     "output_type": "execute_result"
    }
   ],
   "source": [
    "True and False"
   ]
  },
  {
   "cell_type": "code",
   "execution_count": 47,
   "metadata": {},
   "outputs": [
    {
     "data": {
      "text/plain": [
       "False"
      ]
     },
     "execution_count": 47,
     "metadata": {},
     "output_type": "execute_result"
    }
   ],
   "source": [
    "False and False"
   ]
  },
  {
   "cell_type": "code",
   "execution_count": 13,
   "metadata": {},
   "outputs": [
    {
     "data": {
      "text/plain": [
       "True"
      ]
     },
     "execution_count": 13,
     "metadata": {},
     "output_type": "execute_result"
    }
   ],
   "source": [
    "True or False"
   ]
  },
  {
   "cell_type": "code",
   "execution_count": 14,
   "metadata": {},
   "outputs": [
    {
     "data": {
      "text/plain": [
       "True"
      ]
     },
     "execution_count": 14,
     "metadata": {},
     "output_type": "execute_result"
    }
   ],
   "source": [
    "True and True or False"
   ]
  },
  {
   "cell_type": "code",
   "execution_count": 17,
   "metadata": {},
   "outputs": [
    {
     "data": {
      "text/plain": [
       "True"
      ]
     },
     "execution_count": 17,
     "metadata": {},
     "output_type": "execute_result"
    }
   ],
   "source": [
    "True and False or True"
   ]
  },
  {
   "cell_type": "code",
   "execution_count": 15,
   "metadata": {},
   "outputs": [
    {
     "data": {
      "text/plain": [
       "True"
      ]
     },
     "execution_count": 15,
     "metadata": {},
     "output_type": "execute_result"
    }
   ],
   "source": [
    "False or True"
   ]
  },
  {
   "cell_type": "code",
   "execution_count": 16,
   "metadata": {},
   "outputs": [
    {
     "data": {
      "text/plain": [
       "False"
      ]
     },
     "execution_count": 16,
     "metadata": {},
     "output_type": "execute_result"
    }
   ],
   "source": [
    "False or False"
   ]
  },
  {
   "cell_type": "code",
   "execution_count": 18,
   "metadata": {},
   "outputs": [
    {
     "data": {
      "text/plain": [
       "2"
      ]
     },
     "execution_count": 18,
     "metadata": {},
     "output_type": "execute_result"
    }
   ],
   "source": [
    "True + True"
   ]
  },
  {
   "cell_type": "code",
   "execution_count": 19,
   "metadata": {},
   "outputs": [
    {
     "data": {
      "text/plain": [
       "1"
      ]
     },
     "execution_count": 19,
     "metadata": {},
     "output_type": "execute_result"
    }
   ],
   "source": [
    "True + False"
   ]
  },
  {
   "cell_type": "code",
   "execution_count": 20,
   "metadata": {},
   "outputs": [
    {
     "data": {
      "text/plain": [
       "0"
      ]
     },
     "execution_count": 20,
     "metadata": {},
     "output_type": "execute_result"
    }
   ],
   "source": [
    "False + False"
   ]
  },
  {
   "cell_type": "code",
   "execution_count": 48,
   "metadata": {},
   "outputs": [
    {
     "data": {
      "text/plain": [
       "True"
      ]
     },
     "execution_count": 48,
     "metadata": {},
     "output_type": "execute_result"
    }
   ],
   "source": [
    "45 > 67 and 90 > 38 or 9 > 8"
   ]
  },
  {
   "cell_type": "code",
   "execution_count": null,
   "metadata": {},
   "outputs": [
    {
     "name": "stdout",
     "output_type": "stream",
     "text": [
      "True\n",
      "False\n",
      "False\n",
      "False\n",
      "False\n"
     ]
    }
   ],
   "source": [
    "# in - check if the exact item/element is present or not\n",
    "\n",
    "\n",
    "\n",
    "print('live' in a)\n",
    "print('lIve' in a)\n",
    "print('61' in a)\n",
    "# print(6 in a) # Error\n",
    "\n",
    "a = ['Magesh','live','one',2,3,4,2]\n",
    "print(41 in a)\n",
    "print('liv' in a)"
   ]
  },
  {
   "cell_type": "code",
   "execution_count": 50,
   "metadata": {},
   "outputs": [
    {
     "name": "stdout",
     "output_type": "stream",
     "text": [
      "False\n",
      "True\n",
      "False\n",
      "True\n",
      "True\n",
      "True\n",
      "False\n"
     ]
    }
   ],
   "source": [
    "# not in - opposite of in\n",
    "\n",
    "print(not True)\n",
    "print(not False)\n",
    "\n",
    "a = 'I live in India 678'\n",
    "\n",
    "print('live' not in a)\n",
    "print('lIve' not in a)\n",
    "print('61' not in a)\n",
    "# print(6 in a) # Error\n",
    "\n",
    "a = ['Magesh','live','one',2,3,4,2]\n",
    "print(41 not in a)\n",
    "print('live' not in a)"
   ]
  },
  {
   "cell_type": "markdown",
   "metadata": {},
   "source": [
    "# CONDITIONS:\n",
    "\n",
    "# if , elif , else"
   ]
  },
  {
   "cell_type": "markdown",
   "metadata": {},
   "source": [
    "# if condition:\n",
    "#   statement\n",
    "# else:\n",
    "  # statement\n",
    "\n",
    "# 1. condition - can be anything\n",
    "\n",
    "# 2. if cheks weather the condition is True or False\n",
    "\n",
    "# 3. if the condition is True then only the statemement will be executed\n",
    "\n",
    "# 4. if the condition of the if is Flase then by default else will be triggred\n",
    "\n",
    "# 5. for else if is mandatory\n",
    "\n",
    "# 6. conditional block can have many elif but highest prioriyis if\n",
    "\n",
    "# 7. for a conditional block only one statement will be executed.\n"
   ]
  },
  {
   "cell_type": "markdown",
   "metadata": {},
   "source": [
    "# when condition will be False:\n",
    "  # False, 0, 0.0 , any empty data type i.e '' , []\n",
    "\n",
    "# when condition will be True:\n",
    "#   will be true if it is not False\n",
    "#   infinite scenarios"
   ]
  },
  {
   "cell_type": "code",
   "execution_count": null,
   "metadata": {},
   "outputs": [
    {
     "name": "stdout",
     "output_type": "stream",
     "text": [
      "Good\n"
     ]
    }
   ],
   "source": [
    "if True: # True not false\n",
    "  print('Good')\n",
    "\n"
   ]
  },
  {
   "cell_type": "code",
   "execution_count": null,
   "metadata": {},
   "outputs": [
    {
     "name": "stdout",
     "output_type": "stream",
     "text": [
      "greater\n"
     ]
    }
   ],
   "source": [
    "if 10<100:\n",
    "  \n",
    "\n",
    "  print('greater')"
   ]
  },
  {
   "cell_type": "code",
   "execution_count": null,
   "metadata": {},
   "outputs": [],
   "source": [
    "if 34%12: # 10 - True\n",
    "  print('Great')"
   ]
  },
  {
   "cell_type": "code",
   "execution_count": 63,
   "metadata": {},
   "outputs": [
    {
     "name": "stdout",
     "output_type": "stream",
     "text": [
      "WOrking\n",
      "Inside If Block\n",
      "outside If Block\n"
     ]
    }
   ],
   "source": [
    "if 21 % 2 * 3.5: # 0.0 -False\n",
    "  print('WOrking')\n",
    "  print('Inside If Block')\n",
    "print('outside If Block')"
   ]
  },
  {
   "cell_type": "code",
   "execution_count": 65,
   "metadata": {},
   "outputs": [
    {
     "name": "stdout",
     "output_type": "stream",
     "text": [
      "w\n",
      "In if b\n"
     ]
    }
   ],
   "source": [
    "if 'Nataraj' * 0 + 'sooraj': \n",
    "  print('w')\n",
    "  print('In if b')\n",
    "else:\n",
    "  print('inside else')"
   ]
  },
  {
   "cell_type": "code",
   "execution_count": 67,
   "metadata": {},
   "outputs": [
    {
     "name": "stdout",
     "output_type": "stream",
     "text": [
      "Odd\n"
     ]
    }
   ],
   "source": [
    "a = 51\n",
    "\n",
    "if a%2==0:\n",
    "  print('Even')\n",
    "else:\n",
    "  print('Odd')"
   ]
  },
  {
   "cell_type": "code",
   "execution_count": 70,
   "metadata": {},
   "outputs": [
    {
     "name": "stdout",
     "output_type": "stream",
     "text": [
      "Eat Pizza\n"
     ]
    }
   ],
   "source": [
    "money = 150\n",
    "pizza = 120\n",
    "burger = 110\n",
    "\n",
    "if money >= pizza:\n",
    "  print('Eat Pizza')\n",
    "elif money >=burger:\n",
    "  print('Eat Burger')\n",
    "else:\n",
    "  print('Home Food')"
   ]
  },
  {
   "cell_type": "code",
   "execution_count": null,
   "metadata": {},
   "outputs": [],
   "source": [
    "11"
   ]
  },
  {
   "cell_type": "code",
   "execution_count": 72,
   "metadata": {},
   "outputs": [
    {
     "name": "stdout",
     "output_type": "stream",
     "text": [
      "My name is,sooraj\n",
      "My age is:21\n",
      "My sex is:male\n",
      "My mobile is:12345\n"
     ]
    }
   ],
   "source": [
    "# formatted string\n",
    "\n",
    "a=input('Enter Your Name: ')\n",
    "b=input('Enter Your Age: ')\n",
    "c=input('Enter Your Sex: ')\n",
    "d=input('Enter Your Mobile: ')\n",
    "\n",
    "print(f'My name is,{a}')\n",
    "print(f'My age is:{b}')\n",
    "print(f'My sex is:{c}')\n",
    "print(f'My mobile is:{d}')"
   ]
  },
  {
   "cell_type": "code",
   "execution_count": 73,
   "metadata": {},
   "outputs": [
    {
     "name": "stdout",
     "output_type": "stream",
     "text": [
      "The sum of 5 and 10 is 15.\n"
     ]
    }
   ],
   "source": [
    "# formatted numbers\n",
    "\n",
    "x = int(input('enter number'))\n",
    "y = int(input('enter nember'))\n",
    "\n",
    "# Embedding expressions\n",
    "result = f\"The sum of {x} and {y} is {x + y}.\"\n",
    "print(result)"
   ]
  },
  {
   "cell_type": "code",
   "execution_count": 2,
   "metadata": {},
   "outputs": [
    {
     "name": "stdout",
     "output_type": "stream",
     "text": [
      "Pi is approximately 3.142.\n",
      "Success rate: 75.00%.\n"
     ]
    }
   ],
   "source": [
    "value = 3.14159\n",
    "\n",
    "# Formatting a float to two decimal places\n",
    "formatted_value = f\"Pi is approximately {value:.3f}.\"\n",
    "print(formatted_value)\n",
    "\n",
    "# Formatting as a percentage\n",
    "percentage = 0.75\n",
    "formatted_percentage = f\"Success rate: {percentage:.2%}.\"\n",
    "print(formatted_percentage)"
   ]
  },
  {
   "cell_type": "code",
   "execution_count": null,
   "metadata": {},
   "outputs": [],
   "source": []
  }
 ],
 "metadata": {
  "kernelspec": {
   "display_name": "Python 3",
   "language": "python",
   "name": "python3"
  },
  "language_info": {
   "codemirror_mode": {
    "name": "ipython",
    "version": 3
   },
   "file_extension": ".py",
   "mimetype": "text/x-python",
   "name": "python",
   "nbconvert_exporter": "python",
   "pygments_lexer": "ipython3",
   "version": "3.11.1"
  }
 },
 "nbformat": 4,
 "nbformat_minor": 2
}
